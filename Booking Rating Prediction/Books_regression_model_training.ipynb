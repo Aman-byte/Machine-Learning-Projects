{
  "nbformat": 4,
  "nbformat_minor": 0,
  "metadata": {
    "kernelspec": {
      "display_name": "Python 3",
      "language": "python",
      "name": "python3"
    },
    "language_info": {
      "codemirror_mode": {
        "name": "ipython",
        "version": 3
      },
      "file_extension": ".py",
      "mimetype": "text/x-python",
      "name": "python",
      "nbconvert_exporter": "python",
      "pygments_lexer": "ipython3",
      "version": "3.8.5"
    },
    "colab": {
      "name": "Books regression model training.ipynb",
      "provenance": []
    },
    "accelerator": "GPU"
  },
  "cells": [
    {
      "cell_type": "code",
      "metadata": {
        "id": "VDnpqrQS57Xk"
      },
      "source": [
        "import pandas as pd\n",
        "import numpy as np\n",
        "import matplotlib.pyplot as plt\n",
        "import seaborn as sns\n",
        "from math import floor\n",
        "\n",
        "import pickle\n",
        "import warnings\n",
        "\n",
        "from sklearn.linear_model import LinearRegression\n",
        "from sklearn.tree import DecisionTreeRegressor\n",
        "from sklearn.neighbors import KNeighborsRegressor\n",
        "from sklearn.ensemble import GradientBoostingRegressor, AdaBoostRegressor\n",
        "from sklearn.svm import LinearSVR, SVR\n",
        "\n",
        "from sklearn.model_selection import KFold, GridSearchCV, train_test_split\n",
        "from sklearn.preprocessing import StandardScaler, LabelEncoder, PolynomialFeatures\n",
        "from sklearn.metrics import r2_score,mean_squared_error "
      ],
      "execution_count": 2,
      "outputs": []
    },
    {
      "cell_type": "code",
      "metadata": {
        "id": "m8OhBOOl57Xo"
      },
      "source": [
        "%matplotlib inline\n",
        "np.random.seed(24680)\n",
        "warnings.filterwarnings(\"ignore\")"
      ],
      "execution_count": 3,
      "outputs": []
    },
    {
      "cell_type": "markdown",
      "metadata": {
        "id": "VhiRyKQE57Xp"
      },
      "source": [
        "# Training a prediction model for the average rating of a book\n",
        "---\n",
        "### Motivation\n",
        "This project will serve as an item based recommendation system for the average rating of a book. Thus no new user preferences will be taken into account. We will solely rely on the already rated books.\n",
        "\n",
        "### Data source\n",
        "The dataset is a sample from Goodreads.com and is published at: https://www.kaggle.com/jealousleopard/goodreadsbooks"
      ]
    },
    {
      "cell_type": "code",
      "metadata": {
        "id": "83H8eGQ457Xp"
      },
      "source": [
        "books_data = pd.read_csv(\"/content/drive/MyDrive/College/8th Sem CSE Notes/8 Sem Notes/ML/Lab/datasets/books.csv\",\n",
        "                         error_bad_lines=False,\n",
        "                         warn_bad_lines=False)"
      ],
      "execution_count": 4,
      "outputs": []
    },
    {
      "cell_type": "markdown",
      "metadata": {
        "id": "U9MvYRPO57Xp"
      },
      "source": [
        "### Columns description: \n",
        "- **bookID** unique Identification number for each book.\n",
        "- **title** The name under which the book was published.\n",
        "- **authorsNames** of the authors of the book. Multiple authors are delimited with -.\n",
        "- **average_rating** The average rating of the book received in total.\n",
        "- **isbn** Another unique number to identify the book, the International Standard Book Number.\n",
        "- **isbn13** A 13-digit ISBN to identify the book, instead of the standard 11-digit ISBN.\n",
        "- **language_code** Helps understand what is the primary language of the book. For instance, eng is standard for English.\n",
        "- **\\# num_pages** Number of pages the book contains.\n",
        "- **ratings_count** Total number of ratings the book received.\n",
        "- **text_reviews_count** Total number of written text reviews the book received."
      ]
    },
    {
      "cell_type": "code",
      "metadata": {
        "colab": {
          "base_uri": "https://localhost:8080/",
          "height": 379
        },
        "id": "C9xEJnHN57Xq",
        "outputId": "7c745c6a-117e-4995-e0fa-d274d5c82d78"
      },
      "source": [
        "books_data.sample(5)"
      ],
      "execution_count": 5,
      "outputs": [
        {
          "output_type": "execute_result",
          "data": {
            "text/html": [
              "<div>\n",
              "<style scoped>\n",
              "    .dataframe tbody tr th:only-of-type {\n",
              "        vertical-align: middle;\n",
              "    }\n",
              "\n",
              "    .dataframe tbody tr th {\n",
              "        vertical-align: top;\n",
              "    }\n",
              "\n",
              "    .dataframe thead th {\n",
              "        text-align: right;\n",
              "    }\n",
              "</style>\n",
              "<table border=\"1\" class=\"dataframe\">\n",
              "  <thead>\n",
              "    <tr style=\"text-align: right;\">\n",
              "      <th></th>\n",
              "      <th>bookID</th>\n",
              "      <th>title</th>\n",
              "      <th>authors</th>\n",
              "      <th>average_rating</th>\n",
              "      <th>isbn</th>\n",
              "      <th>isbn13</th>\n",
              "      <th>language_code</th>\n",
              "      <th># num_pages</th>\n",
              "      <th>ratings_count</th>\n",
              "      <th>text_reviews_count</th>\n",
              "    </tr>\n",
              "  </thead>\n",
              "  <tbody>\n",
              "    <tr>\n",
              "      <th>11211</th>\n",
              "      <td>37476</td>\n",
              "      <td>Why I Hate Canadians</td>\n",
              "      <td>Will Ferguson</td>\n",
              "      <td>3.71</td>\n",
              "      <td>1550546007</td>\n",
              "      <td>9781550546002</td>\n",
              "      <td>en-GB</td>\n",
              "      <td>220</td>\n",
              "      <td>608</td>\n",
              "      <td>47</td>\n",
              "    </tr>\n",
              "    <tr>\n",
              "      <th>12959</th>\n",
              "      <td>44739</td>\n",
              "      <td>Graphic Design Solutions</td>\n",
              "      <td>Robin Landa</td>\n",
              "      <td>4.03</td>\n",
              "      <td>1401881548</td>\n",
              "      <td>9781401881542</td>\n",
              "      <td>en-US</td>\n",
              "      <td>403</td>\n",
              "      <td>138</td>\n",
              "      <td>11</td>\n",
              "    </tr>\n",
              "    <tr>\n",
              "      <th>7068</th>\n",
              "      <td>22188</td>\n",
              "      <td>Gossip Girl (Gossip Girl  #1)</td>\n",
              "      <td>Cecily von Ziegesar</td>\n",
              "      <td>3.51</td>\n",
              "      <td>0316910333</td>\n",
              "      <td>9780316910330</td>\n",
              "      <td>eng</td>\n",
              "      <td>224</td>\n",
              "      <td>53230</td>\n",
              "      <td>2245</td>\n",
              "    </tr>\n",
              "    <tr>\n",
              "      <th>5061</th>\n",
              "      <td>15138</td>\n",
              "      <td>La mujer del viajero en el tiempo</td>\n",
              "      <td>Audrey Niffenegger-Silvia Alemany</td>\n",
              "      <td>3.96</td>\n",
              "      <td>0307344835</td>\n",
              "      <td>9780307344830</td>\n",
              "      <td>spa</td>\n",
              "      <td>608</td>\n",
              "      <td>19</td>\n",
              "      <td>2</td>\n",
              "    </tr>\n",
              "    <tr>\n",
              "      <th>8853</th>\n",
              "      <td>28466</td>\n",
              "      <td>ADHD in Adulthood: A Guide to Current Theory  ...</td>\n",
              "      <td>Margaret Weiss-Gabrielle Weiss-Lily Trokenberg...</td>\n",
              "      <td>3.40</td>\n",
              "      <td>080186822X</td>\n",
              "      <td>9780801868221</td>\n",
              "      <td>eng</td>\n",
              "      <td>376</td>\n",
              "      <td>5</td>\n",
              "      <td>0</td>\n",
              "    </tr>\n",
              "  </tbody>\n",
              "</table>\n",
              "</div>"
            ],
            "text/plain": [
              "       bookID  ... text_reviews_count\n",
              "11211   37476  ...                 47\n",
              "12959   44739  ...                 11\n",
              "7068    22188  ...               2245\n",
              "5061    15138  ...                  2\n",
              "8853    28466  ...                  0\n",
              "\n",
              "[5 rows x 10 columns]"
            ]
          },
          "metadata": {
            "tags": []
          },
          "execution_count": 5
        }
      ]
    },
    {
      "cell_type": "code",
      "metadata": {
        "colab": {
          "base_uri": "https://localhost:8080/"
        },
        "id": "kL2oN0IJ57Xq",
        "outputId": "a90c9209-3e65-4716-a9e5-d04bc3e94803"
      },
      "source": [
        "books_data.shape"
      ],
      "execution_count": 6,
      "outputs": [
        {
          "output_type": "execute_result",
          "data": {
            "text/plain": [
              "(13714, 10)"
            ]
          },
          "metadata": {
            "tags": []
          },
          "execution_count": 6
        }
      ]
    },
    {
      "cell_type": "code",
      "metadata": {
        "colab": {
          "base_uri": "https://localhost:8080/"
        },
        "id": "HcR7wVaY57Xr",
        "outputId": "18d5b44d-1a39-4a46-ca8a-a5ad76dd1127"
      },
      "source": [
        "books_data.dtypes"
      ],
      "execution_count": 7,
      "outputs": [
        {
          "output_type": "execute_result",
          "data": {
            "text/plain": [
              "bookID                  int64\n",
              "title                  object\n",
              "authors                object\n",
              "average_rating        float64\n",
              "isbn                   object\n",
              "isbn13                  int64\n",
              "language_code          object\n",
              "# num_pages             int64\n",
              "ratings_count           int64\n",
              "text_reviews_count      int64\n",
              "dtype: object"
            ]
          },
          "metadata": {
            "tags": []
          },
          "execution_count": 7
        }
      ]
    },
    {
      "cell_type": "code",
      "metadata": {
        "colab": {
          "base_uri": "https://localhost:8080/"
        },
        "id": "2Bu9ibXe57Xr",
        "outputId": "5a558f0d-682e-4d37-fb9e-d59b6f8a82e1"
      },
      "source": [
        "books_data.isna().any().any()"
      ],
      "execution_count": 8,
      "outputs": [
        {
          "output_type": "execute_result",
          "data": {
            "text/plain": [
              "False"
            ]
          },
          "metadata": {
            "tags": []
          },
          "execution_count": 8
        }
      ]
    },
    {
      "cell_type": "markdown",
      "metadata": {
        "id": "-ZKVV1HN57Xs"
      },
      "source": [
        "There are no NA values in the dataset."
      ]
    },
    {
      "cell_type": "code",
      "metadata": {
        "id": "idRL4W6G57Xs"
      },
      "source": [
        "books_data.rename(columns={\"# num_pages\":\"pages_count\"}, inplace=True)"
      ],
      "execution_count": 9,
      "outputs": []
    },
    {
      "cell_type": "code",
      "metadata": {
        "colab": {
          "base_uri": "https://localhost:8080/",
          "height": 345
        },
        "id": "lj80y49e57Xs",
        "outputId": "eb693dd6-237a-477a-a31e-959f78b03347"
      },
      "source": [
        "books_data.sample(5)"
      ],
      "execution_count": 10,
      "outputs": [
        {
          "output_type": "execute_result",
          "data": {
            "text/html": [
              "<div>\n",
              "<style scoped>\n",
              "    .dataframe tbody tr th:only-of-type {\n",
              "        vertical-align: middle;\n",
              "    }\n",
              "\n",
              "    .dataframe tbody tr th {\n",
              "        vertical-align: top;\n",
              "    }\n",
              "\n",
              "    .dataframe thead th {\n",
              "        text-align: right;\n",
              "    }\n",
              "</style>\n",
              "<table border=\"1\" class=\"dataframe\">\n",
              "  <thead>\n",
              "    <tr style=\"text-align: right;\">\n",
              "      <th></th>\n",
              "      <th>bookID</th>\n",
              "      <th>title</th>\n",
              "      <th>authors</th>\n",
              "      <th>average_rating</th>\n",
              "      <th>isbn</th>\n",
              "      <th>isbn13</th>\n",
              "      <th>language_code</th>\n",
              "      <th>pages_count</th>\n",
              "      <th>ratings_count</th>\n",
              "      <th>text_reviews_count</th>\n",
              "    </tr>\n",
              "  </thead>\n",
              "  <tbody>\n",
              "    <tr>\n",
              "      <th>2643</th>\n",
              "      <td>7967</td>\n",
              "      <td>Speaker for the Dead (Ender's Saga  #2)</td>\n",
              "      <td>Orson Scott Card</td>\n",
              "      <td>4.06</td>\n",
              "      <td>0812550757</td>\n",
              "      <td>9780812550757</td>\n",
              "      <td>eng</td>\n",
              "      <td>382</td>\n",
              "      <td>182235</td>\n",
              "      <td>6426</td>\n",
              "    </tr>\n",
              "    <tr>\n",
              "      <th>12966</th>\n",
              "      <td>44766</td>\n",
              "      <td>Purple Cane Road (Dave Robicheaux  #11)</td>\n",
              "      <td>James Lee Burke</td>\n",
              "      <td>4.15</td>\n",
              "      <td>0440224047</td>\n",
              "      <td>9780440224044</td>\n",
              "      <td>en-US</td>\n",
              "      <td>387</td>\n",
              "      <td>5304</td>\n",
              "      <td>237</td>\n",
              "    </tr>\n",
              "    <tr>\n",
              "      <th>1636</th>\n",
              "      <td>4909</td>\n",
              "      <td>Teacher Man (Frank McCourt  #3)</td>\n",
              "      <td>Frank McCourt</td>\n",
              "      <td>3.75</td>\n",
              "      <td>0743243781</td>\n",
              "      <td>9780743243780</td>\n",
              "      <td>eng</td>\n",
              "      <td>272</td>\n",
              "      <td>25726</td>\n",
              "      <td>1991</td>\n",
              "    </tr>\n",
              "    <tr>\n",
              "      <th>13133</th>\n",
              "      <td>45438</td>\n",
              "      <td>Legend of the Worst Boy in the World</td>\n",
              "      <td>Eoin Colfer-Glenn McCoy</td>\n",
              "      <td>3.74</td>\n",
              "      <td>0786855037</td>\n",
              "      <td>9780786855032</td>\n",
              "      <td>en-US</td>\n",
              "      <td>101</td>\n",
              "      <td>321</td>\n",
              "      <td>44</td>\n",
              "    </tr>\n",
              "    <tr>\n",
              "      <th>13077</th>\n",
              "      <td>45251</td>\n",
              "      <td>Judas Unchained (Commonwealth Saga  #2)</td>\n",
              "      <td>Peter F. Hamilton</td>\n",
              "      <td>4.31</td>\n",
              "      <td>0345461673</td>\n",
              "      <td>9780345461674</td>\n",
              "      <td>en-US</td>\n",
              "      <td>1008</td>\n",
              "      <td>707</td>\n",
              "      <td>67</td>\n",
              "    </tr>\n",
              "  </tbody>\n",
              "</table>\n",
              "</div>"
            ],
            "text/plain": [
              "       bookID  ... text_reviews_count\n",
              "2643     7967  ...               6426\n",
              "12966   44766  ...                237\n",
              "1636     4909  ...               1991\n",
              "13133   45438  ...                 44\n",
              "13077   45251  ...                 67\n",
              "\n",
              "[5 rows x 10 columns]"
            ]
          },
          "metadata": {
            "tags": []
          },
          "execution_count": 10
        }
      ]
    },
    {
      "cell_type": "markdown",
      "metadata": {
        "id": "Ug611yOY57Xs"
      },
      "source": [
        "Also bookID, isbn and isbn13 are just unique identifiers so I will drop them as they will not provide any additional information."
      ]
    },
    {
      "cell_type": "code",
      "metadata": {
        "colab": {
          "base_uri": "https://localhost:8080/",
          "height": 241
        },
        "id": "SRzsUV1d57Xt",
        "outputId": "70bd96b9-8937-48b9-b177-ebb73e9521de"
      },
      "source": [
        "books_data = books_data.drop([\"bookID\", \"isbn\", \"isbn13\"], axis = 1)\n",
        "books_data.sample(5)"
      ],
      "execution_count": 11,
      "outputs": [
        {
          "output_type": "execute_result",
          "data": {
            "text/html": [
              "<div>\n",
              "<style scoped>\n",
              "    .dataframe tbody tr th:only-of-type {\n",
              "        vertical-align: middle;\n",
              "    }\n",
              "\n",
              "    .dataframe tbody tr th {\n",
              "        vertical-align: top;\n",
              "    }\n",
              "\n",
              "    .dataframe thead th {\n",
              "        text-align: right;\n",
              "    }\n",
              "</style>\n",
              "<table border=\"1\" class=\"dataframe\">\n",
              "  <thead>\n",
              "    <tr style=\"text-align: right;\">\n",
              "      <th></th>\n",
              "      <th>title</th>\n",
              "      <th>authors</th>\n",
              "      <th>average_rating</th>\n",
              "      <th>language_code</th>\n",
              "      <th>pages_count</th>\n",
              "      <th>ratings_count</th>\n",
              "      <th>text_reviews_count</th>\n",
              "    </tr>\n",
              "  </thead>\n",
              "  <tbody>\n",
              "    <tr>\n",
              "      <th>8941</th>\n",
              "      <td>Ratner's Star</td>\n",
              "      <td>Don DeLillo</td>\n",
              "      <td>3.49</td>\n",
              "      <td>eng</td>\n",
              "      <td>448</td>\n",
              "      <td>1478</td>\n",
              "      <td>98</td>\n",
              "    </tr>\n",
              "    <tr>\n",
              "      <th>6397</th>\n",
              "      <td>Moral Politics: How Liberals and Conservatives...</td>\n",
              "      <td>George Lakoff</td>\n",
              "      <td>4.03</td>\n",
              "      <td>eng</td>\n",
              "      <td>471</td>\n",
              "      <td>1215</td>\n",
              "      <td>129</td>\n",
              "    </tr>\n",
              "    <tr>\n",
              "      <th>8705</th>\n",
              "      <td>Accordion Crimes</td>\n",
              "      <td>Annie Proulx</td>\n",
              "      <td>3.59</td>\n",
              "      <td>eng</td>\n",
              "      <td>432</td>\n",
              "      <td>5533</td>\n",
              "      <td>441</td>\n",
              "    </tr>\n",
              "    <tr>\n",
              "      <th>5941</th>\n",
              "      <td>The Books of Magic</td>\n",
              "      <td>Neil Gaiman-John Bolton-Scott Hampton-Charles ...</td>\n",
              "      <td>4.08</td>\n",
              "      <td>eng</td>\n",
              "      <td>200</td>\n",
              "      <td>13358</td>\n",
              "      <td>459</td>\n",
              "    </tr>\n",
              "    <tr>\n",
              "      <th>8528</th>\n",
              "      <td>Glass House</td>\n",
              "      <td>Philip Johnson-Toshio Nakamura</td>\n",
              "      <td>4.00</td>\n",
              "      <td>eng</td>\n",
              "      <td>256</td>\n",
              "      <td>14</td>\n",
              "      <td>2</td>\n",
              "    </tr>\n",
              "  </tbody>\n",
              "</table>\n",
              "</div>"
            ],
            "text/plain": [
              "                                                  title  ... text_reviews_count\n",
              "8941                                      Ratner's Star  ...                 98\n",
              "6397  Moral Politics: How Liberals and Conservatives...  ...                129\n",
              "8705                                   Accordion Crimes  ...                441\n",
              "5941                                 The Books of Magic  ...                459\n",
              "8528                                        Glass House  ...                  2\n",
              "\n",
              "[5 rows x 7 columns]"
            ]
          },
          "metadata": {
            "tags": []
          },
          "execution_count": 11
        }
      ]
    },
    {
      "cell_type": "code",
      "metadata": {
        "colab": {
          "base_uri": "https://localhost:8080/",
          "height": 390
        },
        "id": "Fe7aJbXV57Xt",
        "outputId": "a2a67af0-e990-409a-926e-cef1fa05efba"
      },
      "source": [
        "print(\"The following heatmap displays the correlation between the features:\")\n",
        "\n",
        "sns.heatmap(data=books_data.corr(),\n",
        "            linewidths=0.25, square=True,\n",
        "            linecolor=\"black\", annot=True)"
      ],
      "execution_count": 12,
      "outputs": [
        {
          "output_type": "stream",
          "text": [
            "The following heatmap displays the correlation between the features:\n"
          ],
          "name": "stdout"
        },
        {
          "output_type": "execute_result",
          "data": {
            "text/plain": [
              "<matplotlib.axes._subplots.AxesSubplot at 0x7fd4642b86d0>"
            ]
          },
          "metadata": {
            "tags": []
          },
          "execution_count": 12
        },
        {
          "output_type": "display_data",
          "data": {
            "image/png": "[encoded data removed]",
            "text/plain": [
              "<Figure size 432x288 with 2 Axes>"
            ]
          },
          "metadata": {
            "tags": [],
            "needs_background": "light"
          }
        }
      ]
    },
    {
      "cell_type": "markdown",
      "metadata": {
        "id": "vKrxnuHP57Xt"
      },
      "source": [
        "We see a high correlation between the ratings_count and the text_reviews_count (~ 86%). From this \n",
        "we can conclude that when a person writes a review he/she will most likely also rate the book itself."
      ]
    },
    {
      "cell_type": "markdown",
      "metadata": {
        "id": "QBw96flE57Xt"
      },
      "source": [
        "Let's examine the top 10 most rated books."
      ]
    },
    {
      "cell_type": "code",
      "metadata": {
        "colab": {
          "base_uri": "https://localhost:8080/",
          "height": 363
        },
        "id": "x0CWrSwt57Xu",
        "outputId": "2e94d866-8483-4b5d-dc03-87c803ce7f54"
      },
      "source": [
        "most_rated = books_data.sort_values(by=\"ratings_count\", ascending = False).head(10)\n",
        "\n",
        "most_rated_titles = pd.DataFrame(most_rated.title).join(pd.DataFrame(most_rated.ratings_count))\n",
        "most_rated_titles"
      ],
      "execution_count": 13,
      "outputs": [
        {
          "output_type": "execute_result",
          "data": {
            "text/html": [
              "<div>\n",
              "<style scoped>\n",
              "    .dataframe tbody tr th:only-of-type {\n",
              "        vertical-align: middle;\n",
              "    }\n",
              "\n",
              "    .dataframe tbody tr th {\n",
              "        vertical-align: top;\n",
              "    }\n",
              "\n",
              "    .dataframe thead th {\n",
              "        text-align: right;\n",
              "    }\n",
              "</style>\n",
              "<table border=\"1\" class=\"dataframe\">\n",
              "  <thead>\n",
              "    <tr style=\"text-align: right;\">\n",
              "      <th></th>\n",
              "      <th>title</th>\n",
              "      <th>ratings_count</th>\n",
              "    </tr>\n",
              "  </thead>\n",
              "  <tbody>\n",
              "    <tr>\n",
              "      <th>2</th>\n",
              "      <td>Harry Potter and the Sorcerer's Stone (Harry P...</td>\n",
              "      <td>5629932</td>\n",
              "    </tr>\n",
              "    <tr>\n",
              "      <th>12243</th>\n",
              "      <td>Twilight (Twilight  #1)</td>\n",
              "      <td>4367341</td>\n",
              "    </tr>\n",
              "    <tr>\n",
              "      <th>2000</th>\n",
              "      <td>The Hobbit or There and Back Again</td>\n",
              "      <td>2364968</td>\n",
              "    </tr>\n",
              "    <tr>\n",
              "      <th>1717</th>\n",
              "      <td>The Catcher in the Rye</td>\n",
              "      <td>2318478</td>\n",
              "    </tr>\n",
              "    <tr>\n",
              "      <th>340</th>\n",
              "      <td>Angels &amp; Demons (Robert Langdon  #1)</td>\n",
              "      <td>2279854</td>\n",
              "    </tr>\n",
              "    <tr>\n",
              "      <th>4</th>\n",
              "      <td>Harry Potter and the Prisoner of Azkaban (Harr...</td>\n",
              "      <td>2149872</td>\n",
              "    </tr>\n",
              "    <tr>\n",
              "      <th>5300</th>\n",
              "      <td>Harry Potter and the Chamber of Secrets (Harry...</td>\n",
              "      <td>2115562</td>\n",
              "    </tr>\n",
              "    <tr>\n",
              "      <th>2505</th>\n",
              "      <td>Animal Farm</td>\n",
              "      <td>2102616</td>\n",
              "    </tr>\n",
              "    <tr>\n",
              "      <th>25</th>\n",
              "      <td>The Fellowship of the Ring (The Lord of the Ri...</td>\n",
              "      <td>2009749</td>\n",
              "    </tr>\n",
              "    <tr>\n",
              "      <th>1</th>\n",
              "      <td>Harry Potter and the Order of the Phoenix (Har...</td>\n",
              "      <td>1996446</td>\n",
              "    </tr>\n",
              "  </tbody>\n",
              "</table>\n",
              "</div>"
            ],
            "text/plain": [
              "                                                   title  ratings_count\n",
              "2      Harry Potter and the Sorcerer's Stone (Harry P...        5629932\n",
              "12243                            Twilight (Twilight  #1)        4367341\n",
              "2000                  The Hobbit or There and Back Again        2364968\n",
              "1717                              The Catcher in the Rye        2318478\n",
              "340                 Angels & Demons (Robert Langdon  #1)        2279854\n",
              "4      Harry Potter and the Prisoner of Azkaban (Harr...        2149872\n",
              "5300   Harry Potter and the Chamber of Secrets (Harry...        2115562\n",
              "2505                                         Animal Farm        2102616\n",
              "25     The Fellowship of the Ring (The Lord of the Ri...        2009749\n",
              "1      Harry Potter and the Order of the Phoenix (Har...        1996446"
            ]
          },
          "metadata": {
            "tags": []
          },
          "execution_count": 13
        }
      ]
    },
    {
      "cell_type": "code",
      "metadata": {
        "colab": {
          "base_uri": "https://localhost:8080/",
          "height": 531
        },
        "id": "f527CTF757Xu",
        "outputId": "6c11e9f0-29f1-438b-af84-473d3a52a723"
      },
      "source": [
        "fig, ax = plt.subplots(figsize=(8, 8))\n",
        "ax.invert_yaxis()\n",
        "\n",
        "y_axis = most_rated_titles.title\n",
        "x_axis = most_rated_titles.ratings_count\n",
        "\n",
        "plt.barh(y_axis,x_axis, align=\"center\")\n",
        "plt.title('Top 10 Books: Most Rated')\n",
        "plt.ylabel('Titles')\n",
        "plt.xlabel('Ratings count(In Millions)')"
      ],
      "execution_count": 51,
      "outputs": [
        {
          "output_type": "execute_result",
          "data": {
            "text/plain": [
              "Text(0.5, 0, 'Ratings count(In Millions)')"
            ]
          },
          "metadata": {
            "tags": []
          },
          "execution_count": 51
        },
        {
          "output_type": "display_data",
          "data": {
            "image/png": "[encoded data removed]",
            "text/plain": [
              "<Figure size 576x576 with 1 Axes>"
            ]
          },
          "metadata": {
            "tags": [],
            "needs_background": "light"
          }
        }
      ]
    },
    {
      "cell_type": "code",
      "metadata": {
        "id": "dxAK4D6U57Xu"
      },
      "source": [
        "def scatter_plot(x, y, title, x_label, y_label):\n",
        "    plt.subplots(figsize=(8, 8))\n",
        "    plt.scatter(x,\n",
        "                y)\n",
        "    plt.title(title)\n",
        "    plt.xlabel(x_label)\n",
        "    plt.ylabel(y_label)"
      ],
      "execution_count": 15,
      "outputs": []
    },
    {
      "cell_type": "code",
      "metadata": {
        "colab": {
          "base_uri": "https://localhost:8080/",
          "height": 513
        },
        "id": "KvM9te1g57Xv",
        "outputId": "2e85e902-fa4e-4abb-f825-a4e5ce0d98a8"
      },
      "source": [
        "pages_count_and_average_rating_title = \"Relation between pages count and average rating\"\n",
        "average_rating_label = \"Average rating\"\n",
        "pages_count_label = \"Pages count\"\n",
        "scatter_plot(books_data.average_rating,\n",
        "             books_data.pages_count,\n",
        "            pages_count_and_average_rating_title, average_rating_label, pages_count_label)"
      ],
      "execution_count": 16,
      "outputs": [
        {
          "output_type": "display_data",
          "data": {
            "image/png": "[encoded data removed]",
            "text/plain": [
              "<Figure size 576x576 with 1 Axes>"
            ]
          },
          "metadata": {
            "tags": [],
            "needs_background": "light"
          }
        }
      ]
    },
    {
      "cell_type": "markdown",
      "metadata": {
        "id": "WW41DesL57Xv"
      },
      "source": [
        "There are a lot of outliers here. We can see that is no significant relation between average rating and the count of pages of a book.\n",
        "\n",
        "The heatmap also proved this as it displayed a ration of 0.17.\n",
        "Will drop the ourlier (with pages count >= 2000)."
      ]
    },
    {
      "cell_type": "code",
      "metadata": {
        "colab": {
          "base_uri": "https://localhost:8080/",
          "height": 513
        },
        "id": "whjevYNU57Xv",
        "outputId": "de2dd569-c6e5-473d-a6ea-356b3bbcced2"
      },
      "source": [
        "books_data = books_data.drop(books_data.index[books_data[\"pages_count\"] >= 2000])\n",
        "pages_count_and_average_rating_title = \"Relation between pages count and average rating\"\n",
        "average_rating_label = \"Average rating\"\n",
        "pages_count_label = \"Pages count\"\n",
        "scatter_plot(books_data.average_rating,\n",
        "             books_data.pages_count,\n",
        "            pages_count_and_average_rating_title, average_rating_label, pages_count_label)"
      ],
      "execution_count": 17,
      "outputs": [
        {
          "output_type": "display_data",
          "data": {
            "image/png": "[encoded data removed]",
            "text/plain": [
              "<Figure size 576x576 with 1 Axes>"
            ]
          },
          "metadata": {
            "tags": [],
            "needs_background": "light"
          }
        }
      ]
    },
    {
      "cell_type": "code",
      "metadata": {
        "colab": {
          "base_uri": "https://localhost:8080/",
          "height": 545
        },
        "id": "7ADAu82P57Xw",
        "outputId": "c363cea4-a74a-4ba8-8ca1-16e76935d444"
      },
      "source": [
        "print(\"Let`s focus on books ranging between 1-1500 pages.\")\n",
        "limited_by_page_count_books = books_data[books_data.pages_count <= 1500]\n",
        "limited_by_page_count_books"
      ],
      "execution_count": 18,
      "outputs": [
        {
          "output_type": "stream",
          "text": [
            "Let`s focus on books ranging between 1-1500 pages.\n"
          ],
          "name": "stdout"
        },
        {
          "output_type": "execute_result",
          "data": {
            "text/html": [
              "<div>\n",
              "<style scoped>\n",
              "    .dataframe tbody tr th:only-of-type {\n",
              "        vertical-align: middle;\n",
              "    }\n",
              "\n",
              "    .dataframe tbody tr th {\n",
              "        vertical-align: top;\n",
              "    }\n",
              "\n",
              "    .dataframe thead th {\n",
              "        text-align: right;\n",
              "    }\n",
              "</style>\n",
              "<table border=\"1\" class=\"dataframe\">\n",
              "  <thead>\n",
              "    <tr style=\"text-align: right;\">\n",
              "      <th></th>\n",
              "      <th>title</th>\n",
              "      <th>authors</th>\n",
              "      <th>average_rating</th>\n",
              "      <th>language_code</th>\n",
              "      <th>pages_count</th>\n",
              "      <th>ratings_count</th>\n",
              "      <th>text_reviews_count</th>\n",
              "    </tr>\n",
              "  </thead>\n",
              "  <tbody>\n",
              "    <tr>\n",
              "      <th>0</th>\n",
              "      <td>Harry Potter and the Half-Blood Prince (Harry ...</td>\n",
              "      <td>J.K. Rowling-Mary GrandPré</td>\n",
              "      <td>4.56</td>\n",
              "      <td>eng</td>\n",
              "      <td>652</td>\n",
              "      <td>1944099</td>\n",
              "      <td>26249</td>\n",
              "    </tr>\n",
              "    <tr>\n",
              "      <th>1</th>\n",
              "      <td>Harry Potter and the Order of the Phoenix (Har...</td>\n",
              "      <td>J.K. Rowling-Mary GrandPré</td>\n",
              "      <td>4.49</td>\n",
              "      <td>eng</td>\n",
              "      <td>870</td>\n",
              "      <td>1996446</td>\n",
              "      <td>27613</td>\n",
              "    </tr>\n",
              "    <tr>\n",
              "      <th>2</th>\n",
              "      <td>Harry Potter and the Sorcerer's Stone (Harry P...</td>\n",
              "      <td>J.K. Rowling-Mary GrandPré</td>\n",
              "      <td>4.47</td>\n",
              "      <td>eng</td>\n",
              "      <td>320</td>\n",
              "      <td>5629932</td>\n",
              "      <td>70390</td>\n",
              "    </tr>\n",
              "    <tr>\n",
              "      <th>3</th>\n",
              "      <td>Harry Potter and the Chamber of Secrets (Harry...</td>\n",
              "      <td>J.K. Rowling</td>\n",
              "      <td>4.41</td>\n",
              "      <td>eng</td>\n",
              "      <td>352</td>\n",
              "      <td>6267</td>\n",
              "      <td>272</td>\n",
              "    </tr>\n",
              "    <tr>\n",
              "      <th>4</th>\n",
              "      <td>Harry Potter and the Prisoner of Azkaban (Harr...</td>\n",
              "      <td>J.K. Rowling-Mary GrandPré</td>\n",
              "      <td>4.55</td>\n",
              "      <td>eng</td>\n",
              "      <td>435</td>\n",
              "      <td>2149872</td>\n",
              "      <td>33964</td>\n",
              "    </tr>\n",
              "    <tr>\n",
              "      <th>...</th>\n",
              "      <td>...</td>\n",
              "      <td>...</td>\n",
              "      <td>...</td>\n",
              "      <td>...</td>\n",
              "      <td>...</td>\n",
              "      <td>...</td>\n",
              "      <td>...</td>\n",
              "    </tr>\n",
              "    <tr>\n",
              "      <th>13709</th>\n",
              "      <td>M Is for Magic</td>\n",
              "      <td>Neil Gaiman-Teddy Kristiansen</td>\n",
              "      <td>3.82</td>\n",
              "      <td>eng</td>\n",
              "      <td>260</td>\n",
              "      <td>11317</td>\n",
              "      <td>1060</td>\n",
              "    </tr>\n",
              "    <tr>\n",
              "      <th>13710</th>\n",
              "      <td>Black Orchid</td>\n",
              "      <td>Neil Gaiman-Dave McKean</td>\n",
              "      <td>3.72</td>\n",
              "      <td>eng</td>\n",
              "      <td>160</td>\n",
              "      <td>8710</td>\n",
              "      <td>361</td>\n",
              "    </tr>\n",
              "    <tr>\n",
              "      <th>13711</th>\n",
              "      <td>InterWorld (InterWorld  #1)</td>\n",
              "      <td>Neil Gaiman-Michael Reaves</td>\n",
              "      <td>3.53</td>\n",
              "      <td>en-US</td>\n",
              "      <td>239</td>\n",
              "      <td>14334</td>\n",
              "      <td>1485</td>\n",
              "    </tr>\n",
              "    <tr>\n",
              "      <th>13712</th>\n",
              "      <td>The Faeries' Oracle</td>\n",
              "      <td>Brian Froud-Jessica Macbeth</td>\n",
              "      <td>4.43</td>\n",
              "      <td>eng</td>\n",
              "      <td>224</td>\n",
              "      <td>1550</td>\n",
              "      <td>38</td>\n",
              "    </tr>\n",
              "    <tr>\n",
              "      <th>13713</th>\n",
              "      <td>The World of The Dark Crystal</td>\n",
              "      <td>Brian Froud</td>\n",
              "      <td>4.29</td>\n",
              "      <td>eng</td>\n",
              "      <td>132</td>\n",
              "      <td>3572</td>\n",
              "      <td>33</td>\n",
              "    </tr>\n",
              "  </tbody>\n",
              "</table>\n",
              "<p>13666 rows × 7 columns</p>\n",
              "</div>"
            ],
            "text/plain": [
              "                                                   title  ... text_reviews_count\n",
              "0      Harry Potter and the Half-Blood Prince (Harry ...  ...              26249\n",
              "1      Harry Potter and the Order of the Phoenix (Har...  ...              27613\n",
              "2      Harry Potter and the Sorcerer's Stone (Harry P...  ...              70390\n",
              "3      Harry Potter and the Chamber of Secrets (Harry...  ...                272\n",
              "4      Harry Potter and the Prisoner of Azkaban (Harr...  ...              33964\n",
              "...                                                  ...  ...                ...\n",
              "13709                                     M Is for Magic  ...               1060\n",
              "13710                                       Black Orchid  ...                361\n",
              "13711                        InterWorld (InterWorld  #1)  ...               1485\n",
              "13712                                The Faeries' Oracle  ...                 38\n",
              "13713                      The World of The Dark Crystal  ...                 33\n",
              "\n",
              "[13666 rows x 7 columns]"
            ]
          },
          "metadata": {
            "tags": []
          },
          "execution_count": 18
        }
      ]
    },
    {
      "cell_type": "code",
      "metadata": {
        "colab": {
          "base_uri": "https://localhost:8080/",
          "height": 513
        },
        "id": "VCHp-BMy57Xw",
        "outputId": "ee50c814-d6e3-48b0-e5fb-fa381eb5c296"
      },
      "source": [
        "scatter_plot(limited_by_page_count_books.average_rating,\n",
        "             limited_by_page_count_books.pages_count,\n",
        "             pages_count_and_average_rating_title,\n",
        "             average_rating_label,\n",
        "             pages_count_label)"
      ],
      "execution_count": 19,
      "outputs": [
        {
          "output_type": "display_data",
          "data": {
            "image/png": "[encoded data removed]",
            "text/plain": [
              "<Figure size 576x576 with 1 Axes>"
            ]
          },
          "metadata": {
            "tags": [],
            "needs_background": "light"
          }
        }
      ]
    },
    {
      "cell_type": "code",
      "metadata": {
        "colab": {
          "base_uri": "https://localhost:8080/",
          "height": 503
        },
        "id": "A4GGOZzU57Xw",
        "outputId": "dba64fa6-412c-4d6e-dfb1-624cc9bc24d5"
      },
      "source": [
        "plt.subplots(figsize=(8, 8))\n",
        "plt.title(\"People preferences in regards to pages count \")\n",
        "violionplot = plt.violinplot(limited_by_page_count_books.pages_count, showmeans=True, points=1000, widths=1)\n",
        "plt.xticks([], None)"
      ],
      "execution_count": 20,
      "outputs": [
        {
          "output_type": "execute_result",
          "data": {
            "text/plain": [
              "([], <a list of 0 Text major ticklabel objects>)"
            ]
          },
          "metadata": {
            "tags": []
          },
          "execution_count": 20
        },
        {
          "output_type": "display_data",
          "data": {
            "image/png": "[encoded data removed]",
            "text/plain": [
              "<Figure size 576x576 with 1 Axes>"
            ]
          },
          "metadata": {
            "tags": [],
            "needs_background": "light"
          }
        }
      ]
    },
    {
      "cell_type": "markdown",
      "metadata": {
        "id": "ETkU7Unp57Xx"
      },
      "source": [
        "We can conclude that people tend to prefer books with pages count between 200 and 400."
      ]
    },
    {
      "cell_type": "code",
      "metadata": {
        "colab": {
          "base_uri": "https://localhost:8080/",
          "height": 527
        },
        "id": "AmVSoutm57Xx",
        "outputId": "88c76987-6781-4b93-e69f-d1eacc96c7c4"
      },
      "source": [
        "books_data[books_data[\"pages_count\"] == 0]"
      ],
      "execution_count": 21,
      "outputs": [
        {
          "output_type": "execute_result",
          "data": {
            "text/html": [
              "<div>\n",
              "<style scoped>\n",
              "    .dataframe tbody tr th:only-of-type {\n",
              "        vertical-align: middle;\n",
              "    }\n",
              "\n",
              "    .dataframe tbody tr th {\n",
              "        vertical-align: top;\n",
              "    }\n",
              "\n",
              "    .dataframe thead th {\n",
              "        text-align: right;\n",
              "    }\n",
              "</style>\n",
              "<table border=\"1\" class=\"dataframe\">\n",
              "  <thead>\n",
              "    <tr style=\"text-align: right;\">\n",
              "      <th></th>\n",
              "      <th>title</th>\n",
              "      <th>authors</th>\n",
              "      <th>average_rating</th>\n",
              "      <th>language_code</th>\n",
              "      <th>pages_count</th>\n",
              "      <th>ratings_count</th>\n",
              "      <th>text_reviews_count</th>\n",
              "    </tr>\n",
              "  </thead>\n",
              "  <tbody>\n",
              "    <tr>\n",
              "      <th>339</th>\n",
              "      <td>The 5 Love Languages / The 5 Love Languages Jo...</td>\n",
              "      <td>Gary Chapman</td>\n",
              "      <td>4.71</td>\n",
              "      <td>eng</td>\n",
              "      <td>0</td>\n",
              "      <td>20</td>\n",
              "      <td>4</td>\n",
              "    </tr>\n",
              "    <tr>\n",
              "      <th>421</th>\n",
              "      <td>The Clan of the Cave Bear  Part 1 of 2 (Earth'...</td>\n",
              "      <td>Jean M. Auel-Donada  Peters</td>\n",
              "      <td>4.43</td>\n",
              "      <td>eng</td>\n",
              "      <td>0</td>\n",
              "      <td>611</td>\n",
              "      <td>34</td>\n",
              "    </tr>\n",
              "    <tr>\n",
              "      <th>959</th>\n",
              "      <td>The Tragedy of Pudd'nhead Wilson</td>\n",
              "      <td>Mark Twain-Michael Prichard</td>\n",
              "      <td>3.79</td>\n",
              "      <td>eng</td>\n",
              "      <td>0</td>\n",
              "      <td>3</td>\n",
              "      <td>0</td>\n",
              "    </tr>\n",
              "    <tr>\n",
              "      <th>977</th>\n",
              "      <td>The Lady and the Unicorn</td>\n",
              "      <td>Tracy Chevalier</td>\n",
              "      <td>3.68</td>\n",
              "      <td>eng</td>\n",
              "      <td>0</td>\n",
              "      <td>303</td>\n",
              "      <td>24</td>\n",
              "    </tr>\n",
              "    <tr>\n",
              "      <th>1426</th>\n",
              "      <td>The Da Vinci Code (Robert Langdon  #2)</td>\n",
              "      <td>Dan Brown-Paul Michael</td>\n",
              "      <td>3.82</td>\n",
              "      <td>eng</td>\n",
              "      <td>0</td>\n",
              "      <td>90</td>\n",
              "      <td>16</td>\n",
              "    </tr>\n",
              "    <tr>\n",
              "      <th>...</th>\n",
              "      <td>...</td>\n",
              "      <td>...</td>\n",
              "      <td>...</td>\n",
              "      <td>...</td>\n",
              "      <td>...</td>\n",
              "      <td>...</td>\n",
              "      <td>...</td>\n",
              "    </tr>\n",
              "    <tr>\n",
              "      <th>12072</th>\n",
              "      <td>Fine Lines (One-Eyed Mack  #6)</td>\n",
              "      <td>Jim Lehrer</td>\n",
              "      <td>3.23</td>\n",
              "      <td>eng</td>\n",
              "      <td>0</td>\n",
              "      <td>17</td>\n",
              "      <td>3</td>\n",
              "    </tr>\n",
              "    <tr>\n",
              "      <th>12594</th>\n",
              "      <td>Stowaway and Milk Run: Two Unabridged Stories ...</td>\n",
              "      <td>Mary Higgins Clark-Jan Maxwell</td>\n",
              "      <td>3.40</td>\n",
              "      <td>eng</td>\n",
              "      <td>0</td>\n",
              "      <td>55</td>\n",
              "      <td>0</td>\n",
              "    </tr>\n",
              "    <tr>\n",
              "      <th>12960</th>\n",
              "      <td>The Mask of the Enchantress</td>\n",
              "      <td>Victoria Holt</td>\n",
              "      <td>3.84</td>\n",
              "      <td>eng</td>\n",
              "      <td>0</td>\n",
              "      <td>20</td>\n",
              "      <td>1</td>\n",
              "    </tr>\n",
              "    <tr>\n",
              "      <th>13147</th>\n",
              "      <td>Treasury of American Tall Tales: Volume 1: Dav...</td>\n",
              "      <td>David Bromberg-Jay Ungar-Molly Mason-Garrison ...</td>\n",
              "      <td>3.86</td>\n",
              "      <td>eng</td>\n",
              "      <td>0</td>\n",
              "      <td>36</td>\n",
              "      <td>9</td>\n",
              "    </tr>\n",
              "    <tr>\n",
              "      <th>13321</th>\n",
              "      <td>Appetite for Life: The Biography of Julia Child</td>\n",
              "      <td>Noël Riley Fitch-Nadia May</td>\n",
              "      <td>4.06</td>\n",
              "      <td>eng</td>\n",
              "      <td>0</td>\n",
              "      <td>37</td>\n",
              "      <td>5</td>\n",
              "    </tr>\n",
              "  </tbody>\n",
              "</table>\n",
              "<p>85 rows × 7 columns</p>\n",
              "</div>"
            ],
            "text/plain": [
              "                                                   title  ... text_reviews_count\n",
              "339    The 5 Love Languages / The 5 Love Languages Jo...  ...                  4\n",
              "421    The Clan of the Cave Bear  Part 1 of 2 (Earth'...  ...                 34\n",
              "959                     The Tragedy of Pudd'nhead Wilson  ...                  0\n",
              "977                             The Lady and the Unicorn  ...                 24\n",
              "1426              The Da Vinci Code (Robert Langdon  #2)  ...                 16\n",
              "...                                                  ...  ...                ...\n",
              "12072                     Fine Lines (One-Eyed Mack  #6)  ...                  3\n",
              "12594  Stowaway and Milk Run: Two Unabridged Stories ...  ...                  0\n",
              "12960                        The Mask of the Enchantress  ...                  1\n",
              "13147  Treasury of American Tall Tales: Volume 1: Dav...  ...                  9\n",
              "13321    Appetite for Life: The Biography of Julia Child  ...                  5\n",
              "\n",
              "[85 rows x 7 columns]"
            ]
          },
          "metadata": {
            "tags": []
          },
          "execution_count": 21
        }
      ]
    },
    {
      "cell_type": "markdown",
      "metadata": {
        "id": "_vbltzph57Xx"
      },
      "source": [
        "There are 0 values in the pages_count column. Will replace them with the mean of the column."
      ]
    },
    {
      "cell_type": "code",
      "metadata": {
        "colab": {
          "base_uri": "https://localhost:8080/",
          "height": 517
        },
        "id": "_wA69LB757Xx",
        "outputId": "c2b32e3a-bed1-43c1-faed-42af60eabb23"
      },
      "source": [
        "plt.subplots(figsize=(8,8))\n",
        "plt.boxplot(books_data.pages_count)\n",
        "plt.xticks([1], [\"Pages count\"])\n",
        "plt.title(\"Boxplot of count of pages\")"
      ],
      "execution_count": 22,
      "outputs": [
        {
          "output_type": "execute_result",
          "data": {
            "text/plain": [
              "Text(0.5, 1.0, 'Boxplot of count of pages')"
            ]
          },
          "metadata": {
            "tags": []
          },
          "execution_count": 22
        },
        {
          "output_type": "display_data",
          "data": {
            "image/png": "[encoded data removed]",
            "text/plain": [
              "<Figure size 576x576 with 1 Axes>"
            ]
          },
          "metadata": {
            "tags": [],
            "needs_background": "light"
          }
        }
      ]
    },
    {
      "cell_type": "code",
      "metadata": {
        "colab": {
          "base_uri": "https://localhost:8080/"
        },
        "id": "5dlxCz4c57Xy",
        "outputId": "ee3deb62-86c2-4e6e-e8cd-1404c3f3aff6"
      },
      "source": [
        "print(\"Mean of pages count\", float(floor(books_data.pages_count.mean())))"
      ],
      "execution_count": 23,
      "outputs": [
        {
          "output_type": "stream",
          "text": [
            "Mean of pages count 337.0\n"
          ],
          "name": "stdout"
        }
      ]
    },
    {
      "cell_type": "code",
      "metadata": {
        "colab": {
          "base_uri": "https://localhost:8080/"
        },
        "id": "tD5694Cy57Xy",
        "outputId": "52637f63-cb35-4eac-c001-2c61bfaf95c7"
      },
      "source": [
        "books_data.pages_count = books_data.pages_count.replace(0, np.nan)\n",
        "books_data.pages_count.fillna(float(floor(books_data.pages_count.mean())), inplace=True)\n",
        "\n",
        "print(\"Count of 0s in pages count column:\", len(books_data[books_data[\"pages_count\"] == 0]))\n",
        "print(\"Are there any NaNs in pages count column:\" , books_data.pages_count.isna().any().any())"
      ],
      "execution_count": 24,
      "outputs": [
        {
          "output_type": "stream",
          "text": [
            "Count of 0s in pages count column: 0\n",
            "Are there any NaNs in pages count column: False\n"
          ],
          "name": "stdout"
        }
      ]
    },
    {
      "cell_type": "code",
      "metadata": {
        "colab": {
          "base_uri": "https://localhost:8080/",
          "height": 527
        },
        "id": "a6x6VpAV57Xy",
        "outputId": "f71c753b-4c0b-4c06-f90a-c6661b784cec"
      },
      "source": [
        "books_data"
      ],
      "execution_count": 25,
      "outputs": [
        {
          "output_type": "execute_result",
          "data": {
            "text/html": [
              "<div>\n",
              "<style scoped>\n",
              "    .dataframe tbody tr th:only-of-type {\n",
              "        vertical-align: middle;\n",
              "    }\n",
              "\n",
              "    .dataframe tbody tr th {\n",
              "        vertical-align: top;\n",
              "    }\n",
              "\n",
              "    .dataframe thead th {\n",
              "        text-align: right;\n",
              "    }\n",
              "</style>\n",
              "<table border=\"1\" class=\"dataframe\">\n",
              "  <thead>\n",
              "    <tr style=\"text-align: right;\">\n",
              "      <th></th>\n",
              "      <th>title</th>\n",
              "      <th>authors</th>\n",
              "      <th>average_rating</th>\n",
              "      <th>language_code</th>\n",
              "      <th>pages_count</th>\n",
              "      <th>ratings_count</th>\n",
              "      <th>text_reviews_count</th>\n",
              "    </tr>\n",
              "  </thead>\n",
              "  <tbody>\n",
              "    <tr>\n",
              "      <th>0</th>\n",
              "      <td>Harry Potter and the Half-Blood Prince (Harry ...</td>\n",
              "      <td>J.K. Rowling-Mary GrandPré</td>\n",
              "      <td>4.56</td>\n",
              "      <td>eng</td>\n",
              "      <td>652.0</td>\n",
              "      <td>1944099</td>\n",
              "      <td>26249</td>\n",
              "    </tr>\n",
              "    <tr>\n",
              "      <th>1</th>\n",
              "      <td>Harry Potter and the Order of the Phoenix (Har...</td>\n",
              "      <td>J.K. Rowling-Mary GrandPré</td>\n",
              "      <td>4.49</td>\n",
              "      <td>eng</td>\n",
              "      <td>870.0</td>\n",
              "      <td>1996446</td>\n",
              "      <td>27613</td>\n",
              "    </tr>\n",
              "    <tr>\n",
              "      <th>2</th>\n",
              "      <td>Harry Potter and the Sorcerer's Stone (Harry P...</td>\n",
              "      <td>J.K. Rowling-Mary GrandPré</td>\n",
              "      <td>4.47</td>\n",
              "      <td>eng</td>\n",
              "      <td>320.0</td>\n",
              "      <td>5629932</td>\n",
              "      <td>70390</td>\n",
              "    </tr>\n",
              "    <tr>\n",
              "      <th>3</th>\n",
              "      <td>Harry Potter and the Chamber of Secrets (Harry...</td>\n",
              "      <td>J.K. Rowling</td>\n",
              "      <td>4.41</td>\n",
              "      <td>eng</td>\n",
              "      <td>352.0</td>\n",
              "      <td>6267</td>\n",
              "      <td>272</td>\n",
              "    </tr>\n",
              "    <tr>\n",
              "      <th>4</th>\n",
              "      <td>Harry Potter and the Prisoner of Azkaban (Harr...</td>\n",
              "      <td>J.K. Rowling-Mary GrandPré</td>\n",
              "      <td>4.55</td>\n",
              "      <td>eng</td>\n",
              "      <td>435.0</td>\n",
              "      <td>2149872</td>\n",
              "      <td>33964</td>\n",
              "    </tr>\n",
              "    <tr>\n",
              "      <th>...</th>\n",
              "      <td>...</td>\n",
              "      <td>...</td>\n",
              "      <td>...</td>\n",
              "      <td>...</td>\n",
              "      <td>...</td>\n",
              "      <td>...</td>\n",
              "      <td>...</td>\n",
              "    </tr>\n",
              "    <tr>\n",
              "      <th>13709</th>\n",
              "      <td>M Is for Magic</td>\n",
              "      <td>Neil Gaiman-Teddy Kristiansen</td>\n",
              "      <td>3.82</td>\n",
              "      <td>eng</td>\n",
              "      <td>260.0</td>\n",
              "      <td>11317</td>\n",
              "      <td>1060</td>\n",
              "    </tr>\n",
              "    <tr>\n",
              "      <th>13710</th>\n",
              "      <td>Black Orchid</td>\n",
              "      <td>Neil Gaiman-Dave McKean</td>\n",
              "      <td>3.72</td>\n",
              "      <td>eng</td>\n",
              "      <td>160.0</td>\n",
              "      <td>8710</td>\n",
              "      <td>361</td>\n",
              "    </tr>\n",
              "    <tr>\n",
              "      <th>13711</th>\n",
              "      <td>InterWorld (InterWorld  #1)</td>\n",
              "      <td>Neil Gaiman-Michael Reaves</td>\n",
              "      <td>3.53</td>\n",
              "      <td>en-US</td>\n",
              "      <td>239.0</td>\n",
              "      <td>14334</td>\n",
              "      <td>1485</td>\n",
              "    </tr>\n",
              "    <tr>\n",
              "      <th>13712</th>\n",
              "      <td>The Faeries' Oracle</td>\n",
              "      <td>Brian Froud-Jessica Macbeth</td>\n",
              "      <td>4.43</td>\n",
              "      <td>eng</td>\n",
              "      <td>224.0</td>\n",
              "      <td>1550</td>\n",
              "      <td>38</td>\n",
              "    </tr>\n",
              "    <tr>\n",
              "      <th>13713</th>\n",
              "      <td>The World of The Dark Crystal</td>\n",
              "      <td>Brian Froud</td>\n",
              "      <td>4.29</td>\n",
              "      <td>eng</td>\n",
              "      <td>132.0</td>\n",
              "      <td>3572</td>\n",
              "      <td>33</td>\n",
              "    </tr>\n",
              "  </tbody>\n",
              "</table>\n",
              "<p>13689 rows × 7 columns</p>\n",
              "</div>"
            ],
            "text/plain": [
              "                                                   title  ... text_reviews_count\n",
              "0      Harry Potter and the Half-Blood Prince (Harry ...  ...              26249\n",
              "1      Harry Potter and the Order of the Phoenix (Har...  ...              27613\n",
              "2      Harry Potter and the Sorcerer's Stone (Harry P...  ...              70390\n",
              "3      Harry Potter and the Chamber of Secrets (Harry...  ...                272\n",
              "4      Harry Potter and the Prisoner of Azkaban (Harr...  ...              33964\n",
              "...                                                  ...  ...                ...\n",
              "13709                                     M Is for Magic  ...               1060\n",
              "13710                                       Black Orchid  ...                361\n",
              "13711                        InterWorld (InterWorld  #1)  ...               1485\n",
              "13712                                The Faeries' Oracle  ...                 38\n",
              "13713                      The World of The Dark Crystal  ...                 33\n",
              "\n",
              "[13689 rows x 7 columns]"
            ]
          },
          "metadata": {
            "tags": []
          },
          "execution_count": 25
        }
      ]
    },
    {
      "cell_type": "code",
      "metadata": {
        "colab": {
          "base_uri": "https://localhost:8080/",
          "height": 517
        },
        "id": "-4ovZc4X57Xy",
        "outputId": "0530d279-4217-49ef-aab3-8948e5597a10"
      },
      "source": [
        "plt.subplots(figsize=(8,8))\n",
        "plt.boxplot(books_data.ratings_count)\n",
        "plt.xticks([1], [\"Ratings count\"])\n",
        "plt.title(\"Boxplot of count of ratings\")"
      ],
      "execution_count": 26,
      "outputs": [
        {
          "output_type": "execute_result",
          "data": {
            "text/plain": [
              "Text(0.5, 1.0, 'Boxplot of count of ratings')"
            ]
          },
          "metadata": {
            "tags": []
          },
          "execution_count": 26
        },
        {
          "output_type": "display_data",
          "data": {
            "image/png": "[encoded data removed]",
            "text/plain": [
              "<Figure size 576x576 with 1 Axes>"
            ]
          },
          "metadata": {
            "tags": [],
            "needs_background": "light"
          }
        }
      ]
    },
    {
      "cell_type": "markdown",
      "metadata": {
        "id": "Gml5AZPR57Xz"
      },
      "source": [
        "There are a few  ourliers here. I will leave them as they are the most popular books (i.e Harry Potter and Twilight)."
      ]
    },
    {
      "cell_type": "markdown",
      "metadata": {
        "id": "mjPFDS7w57Xz"
      },
      "source": [
        "I`m going to encode all the string and categorical variables."
      ]
    },
    {
      "cell_type": "code",
      "metadata": {
        "id": "TY1FW7hk57Xz"
      },
      "source": [
        "encoder = LabelEncoder()\n",
        "books_data.title = encoder.fit_transform(books_data.title)\n",
        "books_data.sample(5)\n",
        "books_data.authors = encoder.fit_transform(books_data.authors)"
      ],
      "execution_count": 27,
      "outputs": []
    },
    {
      "cell_type": "code",
      "metadata": {
        "id": "3GVe3JOF57Xz"
      },
      "source": [
        "books_data = pd.get_dummies(books_data)"
      ],
      "execution_count": 28,
      "outputs": []
    },
    {
      "cell_type": "code",
      "metadata": {
        "colab": {
          "base_uri": "https://localhost:8080/",
          "height": 243
        },
        "id": "jcbaD-d657Xz",
        "outputId": "aed07236-7f31-45cd-c09a-f9dc80d983f8"
      },
      "source": [
        "books_data.sample(5)"
      ],
      "execution_count": 29,
      "outputs": [
        {
          "output_type": "execute_result",
          "data": {
            "text/html": [
              "<div>\n",
              "<style scoped>\n",
              "    .dataframe tbody tr th:only-of-type {\n",
              "        vertical-align: middle;\n",
              "    }\n",
              "\n",
              "    .dataframe tbody tr th {\n",
              "        vertical-align: top;\n",
              "    }\n",
              "\n",
              "    .dataframe thead th {\n",
              "        text-align: right;\n",
              "    }\n",
              "</style>\n",
              "<table border=\"1\" class=\"dataframe\">\n",
              "  <thead>\n",
              "    <tr style=\"text-align: right;\">\n",
              "      <th></th>\n",
              "      <th>title</th>\n",
              "      <th>authors</th>\n",
              "      <th>average_rating</th>\n",
              "      <th>pages_count</th>\n",
              "      <th>ratings_count</th>\n",
              "      <th>text_reviews_count</th>\n",
              "      <th>language_code_ale</th>\n",
              "      <th>language_code_ara</th>\n",
              "      <th>language_code_cat</th>\n",
              "      <th>language_code_dan</th>\n",
              "      <th>language_code_en-CA</th>\n",
              "      <th>language_code_en-GB</th>\n",
              "      <th>language_code_en-US</th>\n",
              "      <th>language_code_eng</th>\n",
              "      <th>language_code_enm</th>\n",
              "      <th>language_code_fre</th>\n",
              "      <th>language_code_ger</th>\n",
              "      <th>language_code_gla</th>\n",
              "      <th>language_code_glg</th>\n",
              "      <th>language_code_grc</th>\n",
              "      <th>language_code_heb</th>\n",
              "      <th>language_code_ita</th>\n",
              "      <th>language_code_jpn</th>\n",
              "      <th>language_code_lat</th>\n",
              "      <th>language_code_msa</th>\n",
              "      <th>language_code_mul</th>\n",
              "      <th>language_code_nl</th>\n",
              "      <th>language_code_nor</th>\n",
              "      <th>language_code_por</th>\n",
              "      <th>language_code_rus</th>\n",
              "      <th>language_code_spa</th>\n",
              "      <th>language_code_srp</th>\n",
              "      <th>language_code_swe</th>\n",
              "      <th>language_code_tur</th>\n",
              "      <th>language_code_wel</th>\n",
              "      <th>language_code_zho</th>\n",
              "    </tr>\n",
              "  </thead>\n",
              "  <tbody>\n",
              "    <tr>\n",
              "      <th>9135</th>\n",
              "      <td>7205</td>\n",
              "      <td>5354</td>\n",
              "      <td>3.32</td>\n",
              "      <td>290.0</td>\n",
              "      <td>4053</td>\n",
              "      <td>660</td>\n",
              "      <td>0</td>\n",
              "      <td>0</td>\n",
              "      <td>0</td>\n",
              "      <td>0</td>\n",
              "      <td>0</td>\n",
              "      <td>0</td>\n",
              "      <td>0</td>\n",
              "      <td>1</td>\n",
              "      <td>0</td>\n",
              "      <td>0</td>\n",
              "      <td>0</td>\n",
              "      <td>0</td>\n",
              "      <td>0</td>\n",
              "      <td>0</td>\n",
              "      <td>0</td>\n",
              "      <td>0</td>\n",
              "      <td>0</td>\n",
              "      <td>0</td>\n",
              "      <td>0</td>\n",
              "      <td>0</td>\n",
              "      <td>0</td>\n",
              "      <td>0</td>\n",
              "      <td>0</td>\n",
              "      <td>0</td>\n",
              "      <td>0</td>\n",
              "      <td>0</td>\n",
              "      <td>0</td>\n",
              "      <td>0</td>\n",
              "      <td>0</td>\n",
              "      <td>0</td>\n",
              "    </tr>\n",
              "    <tr>\n",
              "      <th>5810</th>\n",
              "      <td>9081</td>\n",
              "      <td>5949</td>\n",
              "      <td>4.80</td>\n",
              "      <td>339.0</td>\n",
              "      <td>20</td>\n",
              "      <td>0</td>\n",
              "      <td>0</td>\n",
              "      <td>0</td>\n",
              "      <td>0</td>\n",
              "      <td>0</td>\n",
              "      <td>0</td>\n",
              "      <td>0</td>\n",
              "      <td>1</td>\n",
              "      <td>0</td>\n",
              "      <td>0</td>\n",
              "      <td>0</td>\n",
              "      <td>0</td>\n",
              "      <td>0</td>\n",
              "      <td>0</td>\n",
              "      <td>0</td>\n",
              "      <td>0</td>\n",
              "      <td>0</td>\n",
              "      <td>0</td>\n",
              "      <td>0</td>\n",
              "      <td>0</td>\n",
              "      <td>0</td>\n",
              "      <td>0</td>\n",
              "      <td>0</td>\n",
              "      <td>0</td>\n",
              "      <td>0</td>\n",
              "      <td>0</td>\n",
              "      <td>0</td>\n",
              "      <td>0</td>\n",
              "      <td>0</td>\n",
              "      <td>0</td>\n",
              "      <td>0</td>\n",
              "    </tr>\n",
              "    <tr>\n",
              "      <th>211</th>\n",
              "      <td>8375</td>\n",
              "      <td>5517</td>\n",
              "      <td>3.83</td>\n",
              "      <td>306.0</td>\n",
              "      <td>17317</td>\n",
              "      <td>1138</td>\n",
              "      <td>0</td>\n",
              "      <td>0</td>\n",
              "      <td>0</td>\n",
              "      <td>0</td>\n",
              "      <td>0</td>\n",
              "      <td>0</td>\n",
              "      <td>0</td>\n",
              "      <td>1</td>\n",
              "      <td>0</td>\n",
              "      <td>0</td>\n",
              "      <td>0</td>\n",
              "      <td>0</td>\n",
              "      <td>0</td>\n",
              "      <td>0</td>\n",
              "      <td>0</td>\n",
              "      <td>0</td>\n",
              "      <td>0</td>\n",
              "      <td>0</td>\n",
              "      <td>0</td>\n",
              "      <td>0</td>\n",
              "      <td>0</td>\n",
              "      <td>0</td>\n",
              "      <td>0</td>\n",
              "      <td>0</td>\n",
              "      <td>0</td>\n",
              "      <td>0</td>\n",
              "      <td>0</td>\n",
              "      <td>0</td>\n",
              "      <td>0</td>\n",
              "      <td>0</td>\n",
              "    </tr>\n",
              "    <tr>\n",
              "      <th>5729</th>\n",
              "      <td>3168</td>\n",
              "      <td>1827</td>\n",
              "      <td>3.82</td>\n",
              "      <td>100.0</td>\n",
              "      <td>10</td>\n",
              "      <td>1</td>\n",
              "      <td>0</td>\n",
              "      <td>0</td>\n",
              "      <td>0</td>\n",
              "      <td>0</td>\n",
              "      <td>0</td>\n",
              "      <td>0</td>\n",
              "      <td>0</td>\n",
              "      <td>1</td>\n",
              "      <td>0</td>\n",
              "      <td>0</td>\n",
              "      <td>0</td>\n",
              "      <td>0</td>\n",
              "      <td>0</td>\n",
              "      <td>0</td>\n",
              "      <td>0</td>\n",
              "      <td>0</td>\n",
              "      <td>0</td>\n",
              "      <td>0</td>\n",
              "      <td>0</td>\n",
              "      <td>0</td>\n",
              "      <td>0</td>\n",
              "      <td>0</td>\n",
              "      <td>0</td>\n",
              "      <td>0</td>\n",
              "      <td>0</td>\n",
              "      <td>0</td>\n",
              "      <td>0</td>\n",
              "      <td>0</td>\n",
              "      <td>0</td>\n",
              "      <td>0</td>\n",
              "    </tr>\n",
              "    <tr>\n",
              "      <th>4701</th>\n",
              "      <td>7814</td>\n",
              "      <td>4926</td>\n",
              "      <td>3.84</td>\n",
              "      <td>350.0</td>\n",
              "      <td>3740</td>\n",
              "      <td>47</td>\n",
              "      <td>0</td>\n",
              "      <td>0</td>\n",
              "      <td>0</td>\n",
              "      <td>0</td>\n",
              "      <td>0</td>\n",
              "      <td>0</td>\n",
              "      <td>0</td>\n",
              "      <td>1</td>\n",
              "      <td>0</td>\n",
              "      <td>0</td>\n",
              "      <td>0</td>\n",
              "      <td>0</td>\n",
              "      <td>0</td>\n",
              "      <td>0</td>\n",
              "      <td>0</td>\n",
              "      <td>0</td>\n",
              "      <td>0</td>\n",
              "      <td>0</td>\n",
              "      <td>0</td>\n",
              "      <td>0</td>\n",
              "      <td>0</td>\n",
              "      <td>0</td>\n",
              "      <td>0</td>\n",
              "      <td>0</td>\n",
              "      <td>0</td>\n",
              "      <td>0</td>\n",
              "      <td>0</td>\n",
              "      <td>0</td>\n",
              "      <td>0</td>\n",
              "      <td>0</td>\n",
              "    </tr>\n",
              "  </tbody>\n",
              "</table>\n",
              "</div>"
            ],
            "text/plain": [
              "      title  authors  ...  language_code_wel  language_code_zho\n",
              "9135   7205     5354  ...                  0                  0\n",
              "5810   9081     5949  ...                  0                  0\n",
              "211    8375     5517  ...                  0                  0\n",
              "5729   3168     1827  ...                  0                  0\n",
              "4701   7814     4926  ...                  0                  0\n",
              "\n",
              "[5 rows x 36 columns]"
            ]
          },
          "metadata": {
            "tags": []
          },
          "execution_count": 29
        }
      ]
    },
    {
      "cell_type": "code",
      "metadata": {
        "colab": {
          "base_uri": "https://localhost:8080/"
        },
        "id": "BsUZhZAV57Xz",
        "outputId": "96f2514f-d2e1-460f-b248-cbd8afd1fde6"
      },
      "source": [
        "books_data.shape"
      ],
      "execution_count": 30,
      "outputs": [
        {
          "output_type": "execute_result",
          "data": {
            "text/plain": [
              "(13689, 36)"
            ]
          },
          "metadata": {
            "tags": []
          },
          "execution_count": 30
        }
      ]
    },
    {
      "cell_type": "code",
      "metadata": {
        "colab": {
          "base_uri": "https://localhost:8080/",
          "height": 517
        },
        "id": "GBmha9j357X0",
        "outputId": "4370ad89-a5bc-4779-e39e-5f2f9e77a6f2"
      },
      "source": [
        "plt.subplots(figsize=(8,8))\n",
        "plt.boxplot(books_data.pages_count)\n",
        "plt.xticks([1], [\"Pages count\"])\n",
        "plt.title(\"Boxplot of count of pages\")"
      ],
      "execution_count": 31,
      "outputs": [
        {
          "output_type": "execute_result",
          "data": {
            "text/plain": [
              "Text(0.5, 1.0, 'Boxplot of count of pages')"
            ]
          },
          "metadata": {
            "tags": []
          },
          "execution_count": 31
        },
        {
          "output_type": "display_data",
          "data": {
            "image/png": "[encoded data removed]",
            "text/plain": [
              "<Figure size 576x576 with 1 Axes>"
            ]
          },
          "metadata": {
            "tags": [],
            "needs_background": "light"
          }
        }
      ]
    },
    {
      "cell_type": "markdown",
      "metadata": {
        "id": "dOCQkQO_57X0"
      },
      "source": [
        "Now we will focus no the target (i.e the average_rating). A histogram is a good way to visualize the sample."
      ]
    },
    {
      "cell_type": "code",
      "metadata": {
        "colab": {
          "base_uri": "https://localhost:8080/",
          "height": 531
        },
        "id": "WGA4TW7D57X0",
        "outputId": "d69a4b5b-838d-44a9-d75f-8cf20d666b72"
      },
      "source": [
        "plt.subplots(figsize=(8,8))\n",
        "plt.hist(books_data.average_rating,density=True)\n",
        "plt.xlabel(\"Average rating\")\n",
        "plt.ylabel(\"Density\")\n",
        "plt.title(\"Histogram of the average rating\")"
      ],
      "execution_count": 32,
      "outputs": [
        {
          "output_type": "execute_result",
          "data": {
            "text/plain": [
              "Text(0.5, 1.0, 'Histogram of the average rating')"
            ]
          },
          "metadata": {
            "tags": []
          },
          "execution_count": 32
        },
        {
          "output_type": "display_data",
          "data": {
            "image/png": "[encoded data removed]",
            "text/plain": [
              "<Figure size 576x576 with 1 Axes>"
            ]
          },
          "metadata": {
            "tags": [],
            "needs_background": "light"
          }
        }
      ]
    },
    {
      "cell_type": "markdown",
      "metadata": {
        "id": "F2hZ8P6T57X0"
      },
      "source": [
        "From the histogram we see that most of ratings vary from 3 to 4.5. We can conclude that people tend to like the books they rate thus most of the ratings are very high."
      ]
    },
    {
      "cell_type": "markdown",
      "metadata": {
        "id": "PxPLqggp57X0"
      },
      "source": [
        "### Chosing the best model for regression\n",
        "I'm going to try whether we can use the non-modified for predictions. If the scores are not good I will try to transform the data using a polynom and repeat the same steps and parameter tuning."
      ]
    },
    {
      "cell_type": "code",
      "metadata": {
        "id": "cLLoW-me57X0"
      },
      "source": [
        "book_data=StandardScaler().fit_transform(books_data)\n",
        "books_data_attributes =books_data.drop(\"average_rating\", axis =1)\n",
        "books_data_labels =books_data.average_rating\n",
        "\n",
        "X_train, X_test, y_train, y_test = train_test_split (books_data_attributes, books_data_labels, test_size = 0.3)"
      ],
      "execution_count": 33,
      "outputs": []
    },
    {
      "cell_type": "code",
      "metadata": {
        "id": "H5MXQHdA57X1"
      },
      "source": [
        "k_fold = list(KFold(n_splits=5, shuffle=True).split(X_train, y_train))"
      ],
      "execution_count": 34,
      "outputs": []
    },
    {
      "cell_type": "code",
      "metadata": {
        "id": "S33HIE4N57X1"
      },
      "source": [
        "def grid_search_best_model(model, params, k_fold, X_train, y_train):\n",
        "    grid_search = GridSearchCV(model,\n",
        "                           params,                             \n",
        "                          cv=k_fold).fit(X_train,y_train)\n",
        "    print(\"Best params\", grid_search.best_params_)\n",
        "    print(\"Best estimator\", grid_search.best_estimator_)\n",
        "    print(\"Best score:\", grid_search.best_score_)\n",
        "    \n",
        "    return grid_search.best_estimator_"
      ],
      "execution_count": 35,
      "outputs": []
    },
    {
      "cell_type": "code",
      "metadata": {
        "id": "46yINF3n57X1"
      },
      "source": [
        "model_results = {}\n",
        "\n",
        "def score_model(model,X_train, X_test, y_train, y_test,\n",
        "               show_plot=True):   \n",
        "    y_pred = model.predict(X_test)  \n",
        "    print(f\"Training score: {model.score(X_train,y_train)}\")\n",
        "    print(f\"Test score: {r2_score(y_test, y_pred)}\")\n",
        "    print(\"MSE: \", mean_squared_error(y_test, y_pred))\n",
        "    \n",
        "    predictions_comparision = pd.DataFrame({'Actual': y_test.tolist(), 'Predicted': y_pred.tolist()}).sample(25)\n",
        "    if show_plot == True:\n",
        "        predictions_comparision.plot(kind=\"bar\", figsize=(12,8),title=\"Actual vs predicted values\")\n",
        "    print(predictions_comparision.sample(10))    \n",
        "    \n",
        "    \n",
        "    return {\n",
        "        \"training_score\": model.score(X_train,y_train),\n",
        "        \"test_score_r2\" : r2_score(y_test, y_pred),\n",
        "        \"test_score_mse\" : mean_squared_error(y_test, y_pred)\n",
        "    }\n",
        "\n",
        "def compare_results():\n",
        "    for key in model_results:\n",
        "        print(\"Regression: \", key)\n",
        "        print(\"Trainign score\", model_results[key][\"training_score\"])\n",
        "        print(\"R2 Test score \", model_results[key][\"test_score_r2\"])\n",
        "        print(\"MSE Test score \", model_results[key][\"test_score_mse\"])\n",
        "        print()"
      ],
      "execution_count": 36,
      "outputs": []
    },
    {
      "cell_type": "code",
      "metadata": {
        "colab": {
          "base_uri": "https://localhost:8080/",
          "height": 809
        },
        "id": "tkPh-Hyk57X1",
        "outputId": "a612c782-e748-4ebc-c950-4a89084084c1"
      },
      "source": [
        "params={\n",
        "    \"fit_intercept\":[True,False],\n",
        "}\n",
        "\n",
        "linear_regression = grid_search_best_model(LinearRegression(), params, k_fold, X_train, y_train)\n",
        "model_results[\"linear_regression\"] = score_model(linear_regression, X_train, X_test, y_train, y_test)"
      ],
      "execution_count": 37,
      "outputs": [
        {
          "output_type": "stream",
          "text": [
            "Best params {'fit_intercept': True}\n",
            "Best estimator LinearRegression(copy_X=True, fit_intercept=True, n_jobs=None, normalize=False)\n",
            "Best score: 0.026219339502260585\n",
            "Training score: 0.054651570918810344\n",
            "Test score: 0.0191137084787103\n",
            "MSE:  0.11247859277953683\n",
            "      Actual  Predicted\n",
            "1777    4.00   4.010695\n",
            "2065    4.01   3.942140\n",
            "3148    4.04   3.882693\n",
            "1416    3.96   3.892425\n",
            "1402    3.31   3.896429\n",
            "2859    3.59   3.859084\n",
            "2857    4.24   3.865951\n",
            "3143    4.18   3.987841\n",
            "1186    4.27   4.255050\n",
            "597     4.02   3.906516\n"
          ],
          "name": "stdout"
        },
        {
          "output_type": "display_data",
          "data": {
            "image/png": "[encoded data removed]",
            "text/plain": [
              "<Figure size 864x576 with 1 Axes>"
            ]
          },
          "metadata": {
            "tags": [],
            "needs_background": "light"
          }
        }
      ]
    },
    {
      "cell_type": "code",
      "metadata": {
        "colab": {
          "base_uri": "https://localhost:8080/",
          "height": 843
        },
        "id": "z3KJAxZ857X2",
        "outputId": "a34cfa6e-cc9d-4a92-86a3-7353029a5d1f"
      },
      "source": [
        "params={\n",
        "    \"n_neighbors\": range(2, 30),\n",
        "    \"leaf_size\":[20,30,50,70]\n",
        "}\n",
        "\n",
        "knn = grid_search_best_model(KNeighborsRegressor(), params, k_fold, X_train, y_train)\n",
        "model_results[\"knn\"] = score_model(knn, X_train, X_test, y_train, y_test)"
      ],
      "execution_count": 38,
      "outputs": [
        {
          "output_type": "stream",
          "text": [
            "Best params {'leaf_size': 20, 'n_neighbors': 29}\n",
            "Best estimator KNeighborsRegressor(algorithm='auto', leaf_size=20, metric='minkowski',\n",
            "                    metric_params=None, n_jobs=None, n_neighbors=29, p=2,\n",
            "                    weights='uniform')\n",
            "Best score: -0.0038441649275008593\n",
            "Training score: 0.06755886981501014\n",
            "Test score: 0.002626160392752097\n",
            "MSE:  0.11436922599882397\n",
            "      Actual  Predicted\n",
            "844     4.01   4.071034\n",
            "3102    4.22   3.867931\n",
            "3227    4.02   3.881034\n",
            "1577    3.85   3.948621\n",
            "1977    3.57   3.927586\n",
            "2761    3.85   3.947931\n",
            "496     4.13   3.858621\n",
            "1623    3.78   3.898621\n",
            "1320    3.76   3.825862\n",
            "1475    4.30   4.021034\n"
          ],
          "name": "stdout"
        },
        {
          "output_type": "display_data",
          "data": {
            "image/png": "[encoded data removed]",
            "text/plain": [
              "<Figure size 864x576 with 1 Axes>"
            ]
          },
          "metadata": {
            "tags": [],
            "needs_background": "light"
          }
        }
      ]
    },
    {
      "cell_type": "code",
      "metadata": {
        "scrolled": true,
        "colab": {
          "base_uri": "https://localhost:8080/",
          "height": 895
        },
        "id": "oDrEufSd57X2",
        "outputId": "dbb19c72-4423-47cd-8e51-989f66afc76f"
      },
      "source": [
        "params = {    \"min_samples_split\": [10, 20, 40],\n",
        "              \"max_depth\": [2, 6, 8, 15, 50],\n",
        "              \"min_samples_leaf\": [5, 20, 30],\n",
        "              \"max_leaf_nodes\": [5, 20],\n",
        "              }\n",
        "dtr = grid_search_best_model(DecisionTreeRegressor(), params, k_fold, X_train, y_train)\n",
        "model_results[\"dtr\"] = score_model(dtr, X_train, X_test, y_train, y_test)"
      ],
      "execution_count": 39,
      "outputs": [
        {
          "output_type": "stream",
          "text": [
            "Best params {'max_depth': 50, 'max_leaf_nodes': 20, 'min_samples_leaf': 20, 'min_samples_split': 40}\n",
            "Best estimator DecisionTreeRegressor(ccp_alpha=0.0, criterion='mse', max_depth=50,\n",
            "                      max_features=None, max_leaf_nodes=20,\n",
            "                      min_impurity_decrease=0.0, min_impurity_split=None,\n",
            "                      min_samples_leaf=20, min_samples_split=40,\n",
            "                      min_weight_fraction_leaf=0.0, presort='deprecated',\n",
            "                      random_state=None, splitter='best')\n",
            "Best score: 0.1527276063121906\n",
            "Training score: 0.2238261658403088\n",
            "Test score: 0.06081093588778619\n",
            "MSE:  0.10769715633545397\n",
            "      Actual  Predicted\n",
            "2684    4.26   4.040775\n",
            "3689    3.74   3.891364\n",
            "3058    3.57   1.484400\n",
            "4070    3.94   3.961019\n",
            "487     3.50   3.894562\n",
            "2030    3.93   3.894562\n",
            "278     3.40   3.848845\n",
            "501     3.89   3.894562\n",
            "3212    3.65   4.040775\n",
            "1833    4.11   3.848845\n"
          ],
          "name": "stdout"
        },
        {
          "output_type": "display_data",
          "data": {
            "image/png": "[encoded data removed]",
            "text/plain": [
              "<Figure size 864x576 with 1 Axes>"
            ]
          },
          "metadata": {
            "tags": [],
            "needs_background": "light"
          }
        }
      ]
    },
    {
      "cell_type": "code",
      "metadata": {
        "colab": {
          "base_uri": "https://localhost:8080/",
          "height": 826
        },
        "id": "cMK2fhl957X2",
        "outputId": "e69670bc-693b-4d29-9af7-7368169a3e57"
      },
      "source": [
        "params = {\"learning_rate\":[0.3, 0.5,1],\n",
        "          \"n_estimators\": [50, 100,200,400,700,1000]\n",
        "              }\n",
        "abr = grid_search_best_model(AdaBoostRegressor(), params, k_fold, X_train, y_train)\n",
        "model_results[\"abr\"] = score_model(abr, X_train, X_test, y_train, y_test)"
      ],
      "execution_count": 40,
      "outputs": [
        {
          "output_type": "stream",
          "text": [
            "Best params {'learning_rate': 1, 'n_estimators': 1000}\n",
            "Best estimator AdaBoostRegressor(base_estimator=None, learning_rate=1, loss='linear',\n",
            "                  n_estimators=1000, random_state=None)\n",
            "Best score: 0.11675742964822448\n",
            "Training score: 0.23344257437711746\n",
            "Test score: 0.01832877116059284\n",
            "MSE:  0.11256860183127418\n",
            "      Actual  Predicted\n",
            "907     4.04   3.917230\n",
            "2181    3.88   3.910247\n",
            "2098    3.86   3.874567\n",
            "59      4.03   3.915021\n",
            "2533    4.35   3.874567\n",
            "1614    3.49   3.875060\n",
            "628     3.82   3.998397\n",
            "2424    4.16   4.020968\n",
            "2918    3.64   3.917230\n",
            "3400    3.21   3.874567\n"
          ],
          "name": "stdout"
        },
        {
          "output_type": "display_data",
          "data": {
            "image/png": "[encoded data removed]",
            "text/plain": [
              "<Figure size 864x576 with 1 Axes>"
            ]
          },
          "metadata": {
            "tags": [],
            "needs_background": "light"
          }
        }
      ]
    },
    {
      "cell_type": "markdown",
      "metadata": {
        "id": "UXd0T68K57X2"
      },
      "source": [
        "The data is normalized using the standar scaler. Will try to use relatively small C."
      ]
    },
    {
      "cell_type": "code",
      "metadata": {
        "colab": {
          "base_uri": "https://localhost:8080/",
          "height": 843
        },
        "id": "T4A7Egbm57X2",
        "outputId": "fcef9ffb-66a4-4d7f-89d1-775782746dcd"
      },
      "source": [
        "params = {\n",
        "  \"C\": [0.1,1, 5, 10, 150,500,1000,5000],\n",
        "    \"fit_intercept\":[True,False]\n",
        "}\n",
        "linear_svr = grid_search_best_model(LinearSVR(), params,k_fold, X_train, y_train)\n",
        "model_results[\"linear_svr\"] = score_model(linear_svr, X_train, X_test, y_train, y_test)"
      ],
      "execution_count": 41,
      "outputs": [
        {
          "output_type": "stream",
          "text": [
            "Best params {'C': 0.1, 'fit_intercept': True}\n",
            "Best estimator LinearSVR(C=0.1, dual=True, epsilon=0.0, fit_intercept=True,\n",
            "          intercept_scaling=1.0, loss='epsilon_insensitive', max_iter=1000,\n",
            "          random_state=None, tol=0.0001, verbose=0)\n",
            "Best score: -447.35492663990834\n",
            "Training score: -52.46650719212725\n",
            "Test score: -40.487973429633215\n",
            "MSE:  4.757441213091593\n",
            "      Actual  Predicted\n",
            "1680    3.94   3.075523\n",
            "2358    4.13   4.296769\n",
            "3642    3.99   7.166097\n",
            "3544    4.06   4.320165\n",
            "912     3.74   5.215212\n",
            "3139    3.91   4.942050\n",
            "26      3.69   8.028200\n",
            "1371    3.56   3.424698\n",
            "3059    4.14   4.462631\n",
            "3882    4.22   3.645142\n"
          ],
          "name": "stdout"
        },
        {
          "output_type": "display_data",
          "data": {
            "image/png": "[encoded data removed]",
            "text/plain": [
              "<Figure size 864x576 with 1 Axes>"
            ]
          },
          "metadata": {
            "tags": [],
            "needs_background": "light"
          }
        }
      ]
    },
    {
      "cell_type": "code",
      "metadata": {
        "colab": {
          "base_uri": "https://localhost:8080/",
          "height": 947
        },
        "id": "Ek8ph6Ui57X2",
        "outputId": "75ec52e0-c68d-454f-9f1d-605aa2fa63a7"
      },
      "source": [
        "params={\"n_estimators\":[20, 50, 100,200], \n",
        "        \"learning_rate\": [0.01, 0.05, 0.1, 0.3],\n",
        "         \"max_depth\":[3,5,10], \n",
        "        \"min_samples_leaf\": [3,5],\n",
        "          \"max_features\": [0.3, 1]\n",
        "       }        \n",
        "\n",
        "gbr = grid_search_best_model(GradientBoostingRegressor(), params,k_fold, X_train, y_train)\n",
        "model_results[\"gbr\"] = score_model(gbr, X_train, X_test, y_train, y_test)"
      ],
      "execution_count": 42,
      "outputs": [
        {
          "output_type": "stream",
          "text": [
            "Best params {'learning_rate': 0.05, 'max_depth': 10, 'max_features': 0.3, 'min_samples_leaf': 5, 'n_estimators': 100}\n",
            "Best estimator GradientBoostingRegressor(alpha=0.9, ccp_alpha=0.0, criterion='friedman_mse',\n",
            "                          init=None, learning_rate=0.05, loss='ls',\n",
            "                          max_depth=10, max_features=0.3, max_leaf_nodes=None,\n",
            "                          min_impurity_decrease=0.0, min_impurity_split=None,\n",
            "                          min_samples_leaf=5, min_samples_split=2,\n",
            "                          min_weight_fraction_leaf=0.0, n_estimators=100,\n",
            "                          n_iter_no_change=None, presort='deprecated',\n",
            "                          random_state=None, subsample=1.0, tol=0.0001,\n",
            "                          validation_fraction=0.1, verbose=0, warm_start=False)\n",
            "Best score: 0.20476690476392934\n",
            "Training score: 0.5486441662586472\n",
            "Test score: 0.12250123343038732\n",
            "MSE:  0.10062310716612465\n",
            "      Actual  Predicted\n",
            "278     3.40   3.785467\n",
            "3727    4.15   4.001967\n",
            "1891    3.69   3.846426\n",
            "3975    4.06   3.994848\n",
            "1317    4.31   4.103366\n",
            "1192    3.78   3.862023\n",
            "57      3.54   3.698265\n",
            "3692    3.76   3.846269\n",
            "3476    3.98   3.963292\n",
            "2354    4.05   3.925652\n"
          ],
          "name": "stdout"
        },
        {
          "output_type": "display_data",
          "data": {
            "image/png": "[encoded data removed]",
            "text/plain": [
              "<Figure size 864x576 with 1 Axes>"
            ]
          },
          "metadata": {
            "tags": [],
            "needs_background": "light"
          }
        }
      ]
    },
    {
      "cell_type": "code",
      "metadata": {
        "colab": {
          "base_uri": "https://localhost:8080/",
          "height": 826
        },
        "id": "8mV_4FeB57X3",
        "outputId": "9d0a0402-9b81-4e2a-b557-bfb72ce507ad"
      },
      "source": [
        "params = { \n",
        "    \"C\": [1, 5, 50, 100],\n",
        "    \"gamma\": [0.001, 0.01, 0.1],\n",
        "    \"epsilon\" : [0.01, 0.1]\n",
        "}\n",
        "\n",
        "gaussian_svr = grid_search_best_model(SVR(), params, k_fold,X_train, y_train)\n",
        "model_results[\"gaussian_svr\"] = score_model(gaussian_svr, X_train, X_test, y_train, y_test)"
      ],
      "execution_count": 43,
      "outputs": [
        {
          "output_type": "stream",
          "text": [
            "Best params {'C': 1, 'epsilon': 0.01, 'gamma': 0.001}\n",
            "Best estimator SVR(C=1, cache_size=200, coef0=0.0, degree=3, epsilon=0.01, gamma=0.001,\n",
            "    kernel='rbf', max_iter=-1, shrinking=True, tol=0.001, verbose=False)\n",
            "Best score: 0.016041824102885082\n",
            "Training score: 0.8025762519618768\n",
            "Test score: 0.024288337199910193\n",
            "MSE:  0.11188521619577968\n",
            "      Actual  Predicted\n",
            "3154    4.05   3.934626\n",
            "2588    3.79   3.936716\n",
            "1215    3.86   3.934626\n",
            "2628    4.21   3.934734\n",
            "2845    4.12   3.934626\n",
            "3996    3.90   3.934626\n",
            "1084    3.81   3.934626\n",
            "584     4.45   3.934626\n",
            "3782    3.66   3.934626\n",
            "1089    4.02   3.934626\n"
          ],
          "name": "stdout"
        },
        {
          "output_type": "display_data",
          "data": {
            "image/png": "[encoded data removed]",
            "text/plain": [
              "<Figure size 864x576 with 1 Axes>"
            ]
          },
          "metadata": {
            "tags": [],
            "needs_background": "light"
          }
        }
      ]
    },
    {
      "cell_type": "markdown",
      "metadata": {
        "id": "zOIajnJf57X3"
      },
      "source": [
        "From what we can see the score of all algorithms are not very good. Plus some overfit. I will try\n",
        "to transform the data with polynom of 2nd degree in order to improve the scores."
      ]
    },
    {
      "cell_type": "code",
      "metadata": {
        "id": "4cmP6kNv57X3"
      },
      "source": [
        "quad_transformer= PolynomialFeatures(degree=2, interaction_only=True)\n",
        "books_data_attributes_quad_transformed = quad_transformer.fit_transform(books_data_attributes)\n",
        "X_train_quad_transformed, X_test_quad_transformed, y_train_quad_transformed, y_test_quad_transformed = train_test_split (books_data_attributes_quad_transformed, books_data_labels, test_size = 0.3)\n",
        "k_fold_quad_transformed = list(KFold(n_splits=5, shuffle=True).split(X_train_quad_transformed, y_train_quad_transformed))"
      ],
      "execution_count": 44,
      "outputs": []
    },
    {
      "cell_type": "code",
      "metadata": {
        "colab": {
          "base_uri": "https://localhost:8080/",
          "height": 809
        },
        "id": "666fd0TE57X3",
        "outputId": "261a98f3-940a-4af0-ae33-ccb09e3da27b"
      },
      "source": [
        "params={\n",
        "    \"fit_intercept\":[True,False],\n",
        "}\n",
        "\n",
        "linear_regression_quad_transformed = grid_search_best_model(LinearRegression(), params, k_fold_quad_transformed,X_train_quad_transformed, y_train_quad_transformed)\n",
        "model_results[\"linear_regression_quad_transformed\"] = score_model(linear_regression_quad_transformed, X_train_quad_transformed, X_test_quad_transformed, y_train_quad_transformed, y_test_quad_transformed)"
      ],
      "execution_count": 45,
      "outputs": [
        {
          "output_type": "stream",
          "text": [
            "Best params {'fit_intercept': False}\n",
            "Best estimator LinearRegression(copy_X=True, fit_intercept=False, n_jobs=None, normalize=False)\n",
            "Best score: -83.07828492335062\n",
            "Training score: 0.06345787520499557\n",
            "Test score: -114.73281667559692\n",
            "MSE:  15.345999246200146\n",
            "      Actual  Predicted\n",
            "2683    4.18   3.940331\n",
            "1094    3.70   3.867943\n",
            "3458    3.32   3.929091\n",
            "2623    4.20   3.926359\n",
            "30      3.88   3.866382\n",
            "1824    4.22   3.828309\n",
            "694     3.99   3.974701\n",
            "932     4.28   3.879157\n",
            "2358    4.18   3.852053\n",
            "1608    3.31   3.915587\n"
          ],
          "name": "stdout"
        },
        {
          "output_type": "display_data",
          "data": {
            "image/png": "[encoded data removed]",
            "text/plain": [
              "<Figure size 864x576 with 1 Axes>"
            ]
          },
          "metadata": {
            "tags": [],
            "needs_background": "light"
          }
        }
      ]
    },
    {
      "cell_type": "code",
      "metadata": {
        "colab": {
          "base_uri": "https://localhost:8080/",
          "height": 826
        },
        "id": "JThi1SYb57X3",
        "outputId": "a9236eaa-065d-4528-ba2b-05a670db31ee"
      },
      "source": [
        "params = {\"learning_rate\":[0.3, 0.5,1],\n",
        "          \"n_estimators\": [50, 100,200,400]}\n",
        "              \n",
        "abr_quad_transformed = grid_search_best_model(AdaBoostRegressor(), params,k_fold_quad_transformed,  X_train_quad_transformed, y_train_quad_transformed)\n",
        "model_results[\"abr_quad_transformed\"] = score_model(abr_quad_transformed, X_train_quad_transformed, X_test_quad_transformed, y_train_quad_transformed, y_test_quad_transformed)"
      ],
      "execution_count": 46,
      "outputs": [
        {
          "output_type": "stream",
          "text": [
            "Best params {'learning_rate': 0.5, 'n_estimators': 400}\n",
            "Best estimator AdaBoostRegressor(base_estimator=None, learning_rate=0.5, loss='linear',\n",
            "                  n_estimators=400, random_state=None)\n",
            "Best score: 0.11987490600563426\n",
            "Training score: 0.21927182034470874\n",
            "Test score: 0.11038612418830973\n",
            "MSE:  0.11796147592158285\n",
            "      Actual  Predicted\n",
            "3564    3.97   3.897465\n",
            "292     4.38   3.697470\n",
            "1018    3.54   3.897465\n",
            "880     4.05   3.897465\n",
            "706     3.98   3.897465\n",
            "764     3.57   3.897465\n",
            "1908    4.02   3.897465\n",
            "3892    4.33   2.453408\n",
            "2941    4.32   3.909103\n",
            "605     3.63   3.897465\n"
          ],
          "name": "stdout"
        },
        {
          "output_type": "display_data",
          "data": {
            "image/png": "[encoded data removed]",
            "text/plain": [
              "<Figure size 864x576 with 1 Axes>"
            ]
          },
          "metadata": {
            "tags": [],
            "needs_background": "light"
          }
        }
      ]
    },
    {
      "cell_type": "code",
      "metadata": {
        "colab": {
          "base_uri": "https://localhost:8080/",
          "height": 947
        },
        "id": "bUTd8hDi57X4",
        "outputId": "82ca30c8-f537-428e-eedf-946edde4e209"
      },
      "source": [
        "params={\"n_estimators\":[20, 50, 100,200,400], \n",
        "        \"learning_rate\": [0.01, 0.05, 0.1, 0.3],\n",
        "         \"max_depth\":[3,5,10], \n",
        "        \"min_samples_leaf\": [3,5],\n",
        "        \"max_features\": [0.3, 1]\n",
        "       }        \n",
        "\n",
        "gbr_quad_transformed = grid_search_best_model(GradientBoostingRegressor(), params,k_fold_quad_transformed,  X_train_quad_transformed, y_train_quad_transformed)\n",
        "model_results[\"gbr_quad_transformed\"] = score_model(gbr_quad_transformed,  X_train_quad_transformed,\n",
        "                                                    X_test_quad_transformed, y_train_quad_transformed, y_test_quad_transformed)"
      ],
      "execution_count": 47,
      "outputs": [
        {
          "output_type": "stream",
          "text": [
            "Best params {'learning_rate': 0.05, 'max_depth': 10, 'max_features': 0.3, 'min_samples_leaf': 5, 'n_estimators': 50}\n",
            "Best estimator GradientBoostingRegressor(alpha=0.9, ccp_alpha=0.0, criterion='friedman_mse',\n",
            "                          init=None, learning_rate=0.05, loss='ls',\n",
            "                          max_depth=10, max_features=0.3, max_leaf_nodes=None,\n",
            "                          min_impurity_decrease=0.0, min_impurity_split=None,\n",
            "                          min_samples_leaf=5, min_samples_split=2,\n",
            "                          min_weight_fraction_leaf=0.0, n_estimators=50,\n",
            "                          n_iter_no_change=None, presort='deprecated',\n",
            "                          random_state=None, subsample=1.0, tol=0.0001,\n",
            "                          validation_fraction=0.1, verbose=0, warm_start=False)\n",
            "Best score: 0.19814815215691256\n",
            "Training score: 0.5325661272951934\n",
            "Test score: 0.1807616640443559\n",
            "MSE:  0.1086297840764855\n",
            "      Actual  Predicted\n",
            "1087    4.28   4.223946\n",
            "582     3.68   3.884624\n",
            "1462    3.91   3.933664\n",
            "441     3.78   3.911761\n",
            "1549    3.97   3.910168\n",
            "2638    3.89   3.882144\n",
            "1065    3.68   3.981733\n",
            "293     3.26   3.879096\n",
            "1861    3.82   3.586340\n",
            "3528    4.19   4.036829\n"
          ],
          "name": "stdout"
        },
        {
          "output_type": "display_data",
          "data": {
            "image/png": "[encoded data removed]",
            "text/plain": [
              "<Figure size 864x576 with 1 Axes>"
            ]
          },
          "metadata": {
            "tags": [],
            "needs_background": "light"
          }
        }
      ]
    },
    {
      "cell_type": "markdown",
      "metadata": {
        "id": "HjS-4_UW57X4"
      },
      "source": [
        "### Comparing the results"
      ]
    },
    {
      "cell_type": "code",
      "metadata": {
        "colab": {
          "base_uri": "https://localhost:8080/"
        },
        "id": "e_I03pMg57X4",
        "outputId": "9ad847cc-1f7d-4570-9370-2d21aecd887a"
      },
      "source": [
        "compare_results()"
      ],
      "execution_count": 48,
      "outputs": [
        {
          "output_type": "stream",
          "text": [
            "Regression:  linear_regression\n",
            "Trainign score 0.054651570918810344\n",
            "R2 Test score  0.0191137084787103\n",
            "MSE Test score  0.11247859277953683\n",
            "\n",
            "Regression:  knn\n",
            "Trainign score 0.06755886981501014\n",
            "R2 Test score  0.002626160392752097\n",
            "MSE Test score  0.11436922599882397\n",
            "\n",
            "Regression:  dtr\n",
            "Trainign score 0.2238261658403088\n",
            "R2 Test score  0.06081093588778619\n",
            "MSE Test score  0.10769715633545397\n",
            "\n",
            "Regression:  abr\n",
            "Trainign score 0.23344257437711746\n",
            "R2 Test score  0.01832877116059284\n",
            "MSE Test score  0.11256860183127418\n",
            "\n",
            "Regression:  linear_svr\n",
            "Trainign score -52.46650719212725\n",
            "R2 Test score  -40.487973429633215\n",
            "MSE Test score  4.757441213091593\n",
            "\n",
            "Regression:  gbr\n",
            "Trainign score 0.5486441662586472\n",
            "R2 Test score  0.12250123343038732\n",
            "MSE Test score  0.10062310716612465\n",
            "\n",
            "Regression:  gaussian_svr\n",
            "Trainign score 0.8025762519618768\n",
            "R2 Test score  0.024288337199910193\n",
            "MSE Test score  0.11188521619577968\n",
            "\n",
            "Regression:  linear_regression_quad_transformed\n",
            "Trainign score 0.06345787520499557\n",
            "R2 Test score  -114.73281667559692\n",
            "MSE Test score  15.345999246200146\n",
            "\n",
            "Regression:  abr_quad_transformed\n",
            "Trainign score 0.21927182034470874\n",
            "R2 Test score  0.11038612418830973\n",
            "MSE Test score  0.11796147592158285\n",
            "\n",
            "Regression:  gbr_quad_transformed\n",
            "Trainign score 0.5325661272951934\n",
            "R2 Test score  0.1807616640443559\n",
            "MSE Test score  0.1086297840764855\n",
            "\n"
          ],
          "name": "stdout"
        }
      ]
    },
    {
      "cell_type": "markdown",
      "metadata": {
        "id": "6k6-AiaQ57X4"
      },
      "source": [
        "From the observations we see that a GradientBoostingRegressor with preprocessed data (using polynoms of 2nd degree) performed the best on the test data with score like ~19%. On the training data it did good - around 53%. However the overall scores are not very good but the actual vs. predicted data printed displays some satisfying results."
      ]
    },
    {
      "cell_type": "markdown",
      "metadata": {
        "id": "B5f_fKuc57X4"
      },
      "source": [
        "### Serializing the best model"
      ]
    },
    {
      "cell_type": "code",
      "metadata": {
        "colab": {
          "base_uri": "https://localhost:8080/"
        },
        "id": "F4e2_0E357X4",
        "outputId": "665ecb83-f354-46fe-c594-d35e3b24e8b3"
      },
      "source": [
        "model_dump_filename = \"books_model.pkl\"\n",
        "pickle.dump(gbr_quad_transformed, open(model_dump_filename, \"wb\"))\n",
        "print(\"Successfully dumped the model to\", model_dump_filename)"
      ],
      "execution_count": 49,
      "outputs": [
        {
          "output_type": "stream",
          "text": [
            "Successfully dumped the model to books_model.pkl\n"
          ],
          "name": "stdout"
        }
      ]
    }
  ]
}